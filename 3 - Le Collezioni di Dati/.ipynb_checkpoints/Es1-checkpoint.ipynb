{
 "cells": [
  {
   "cell_type": "markdown",
   "id": "a13d218a",
   "metadata": {},
   "source": [
    "# Esercizio 1"
   ]
  },
  {
   "cell_type": "markdown",
   "id": "85adaa05",
   "metadata": {},
   "source": [
    "## 1. Pagelle scolastiche\n",
    "Creiamo una struttura dati in grado di contenere i record di diversi studenti. La struttura sarà composta da un dizionario, con come chiave il nome dello studente e come valore una lista. La lista deve contenere delle tuple e ogni tupla deve avere alla prima posizione in nome della materia, alla seconda il voto e alla terza le ore di assenza. \n",
    "1. Popola la struttura dati con le seguenti informazioni (v. alla fine):\n",
    "2. Aggiungi alla struttura dati la pagella di un nuovo studente chiamato Albert Einstein, con 10 in tutte le materie e nessu na ora di assenza.\n",
    "3. Aggiungi Fisica a tutte le pagelle con le seguenti votazioni/assenze: Giuseppe Gullo 9.5/0, Antonino Barbera 8/1, Nicola Spina 8/3, Albert Einstein 10/0.\n",
    "4. Stampa la tupla con le informazioni sulla materia Matematica per Giuseppe Gullo\n",
    "5. Stampa la tupla con le informazioni sulla materia Inglese per Nicola Spina\n",
    "6. Stampa solo il voto di Antonio Barbera in Geografia.\n",
    "\n",
    "<table>\n",
    "    <tr><td>Studente</td><td>Matematica</td><td>Italiano</td><td>Inglese</td><td>Storia</td><td>Geografia</td></tr>\n",
    "    <tr><td>Giuseppe Gullo</td><td>VOTO: 9, ASSENZE: 0</td><td>VOTO: 7, ASSENZE: 3</td><td>VOTO: 7.5, ASSENZE: 4</td><td>VOTO: 7.5, ASSENZE: 4</td><td>VOTO: 5, ASSENZE: 7</td></tr>\n",
    "    <tr><td>Antonio Barbera</td><td>VOTO: 8, ASSENZE: 1</td><td>VOTO: 6, ASSENZE: 1</td><td>VOTO: 9.5, ASSENZE: 0</td><td>VOTO: 8, ASSENZE: 2</td><td>VOTO: 8, ASSENZE: 1</td></tr>\n",
    "    <tr><td>Nicola Spina</td><td>VOTO: 7.5, ASSENZE: 2</td><td>VOTO: 6, ASSENZE: 2</td><td>VOTO: 4, ASSENZE: 3</td><td>VOTO: 8.5, ASSENZE: 2</td><td>VOTO: 8, ASSENZE: 2</td></tr>\n",
    "</table>\n"
   ]
  },
  {
   "cell_type": "code",
   "execution_count": 9,
   "id": "a9cf461a",
   "metadata": {},
   "outputs": [
    {
     "name": "stdout",
     "output_type": "stream",
     "text": [
      "{'Giuseppe Gullo': [('Matematica', 9, 0), ('Italiano', 7, 3), ('Inglese', 7.5, 4), ('Storia', 7.5, 4), ('Geografia', 5, 7)], 'Antonio Barbera': [('Matematica', 8, 1), ('Italiano', 6, 1), ('Inglese', 9.5, 0), ('Storia', 8, 2), ('Geografia', 8, 1)], 'Nicola Spina': [('Matematica', 7.5, 2), ('Italiano', 6, 2), ('Inglese', 4, 3), ('Storia', 8.5, 2), ('Geografia', 8, 2)]}\n",
      "====================\n",
      "{'Giuseppe Gullo': [('Matematica', 9, 0), ('Italiano', 7, 3), ('Inglese', 7.5, 4), ('Storia', 7.5, 4), ('Geografia', 5, 7)], 'Antonio Barbera': [('Matematica', 8, 1), ('Italiano', 6, 1), ('Inglese', 9.5, 0), ('Storia', 8, 2), ('Geografia', 8, 1)], 'Nicola Spina': [('Matematica', 7.5, 2), ('Italiano', 6, 2), ('Inglese', 4, 3), ('Storia', 8.5, 2), ('Geografia', 8, 2)], 'Albert Einstein': [('Matematica', 10, 0), ('Italiano', 10, 0), ('Inglese', 10, 0), ('Storia', 10, 0), ('Geografia', 10, 0)]}\n",
      "====================\n",
      "{'Giuseppe Gullo': [('Matematica', 9, 0), ('Italiano', 7, 3), ('Inglese', 7.5, 4), ('Storia', 7.5, 4), ('Geografia', 5, 7), ('Fisica', 9.5, 0)], 'Antonio Barbera': [('Matematica', 8, 1), ('Italiano', 6, 1), ('Inglese', 9.5, 0), ('Storia', 8, 2), ('Geografia', 8, 1), ('Fisica', 8, 1)], 'Nicola Spina': [('Matematica', 7.5, 2), ('Italiano', 6, 2), ('Inglese', 4, 3), ('Storia', 8.5, 2), ('Geografia', 8, 2), ('Fisica', 8, 3)], 'Albert Einstein': [('Matematica', 10, 0), ('Italiano', 10, 0), ('Inglese', 10, 0), ('Storia', 10, 0), ('Geografia', 10, 0), ('Fisica', 10, 0)]}\n",
      "====================\n"
     ]
    },
    {
     "data": {
      "text/plain": [
       "{'Giuseppe Gullo': [('Matematica', 9, 0),\n",
       "  ('Italiano', 7, 3),\n",
       "  ('Inglese', 7.5, 4),\n",
       "  ('Storia', 7.5, 4),\n",
       "  ('Geografia', 5, 7),\n",
       "  ('Fisica', 9.5, 0)],\n",
       " 'Antonio Barbera': [('Matematica', 8, 1),\n",
       "  ('Italiano', 6, 1),\n",
       "  ('Inglese', 9.5, 0),\n",
       "  ('Storia', 8, 2),\n",
       "  ('Geografia', 8, 1),\n",
       "  ('Fisica', 8, 1)],\n",
       " 'Nicola Spina': [('Matematica', 7.5, 2),\n",
       "  ('Italiano', 6, 2),\n",
       "  ('Inglese', 4, 3),\n",
       "  ('Storia', 8.5, 2),\n",
       "  ('Geografia', 8, 2),\n",
       "  ('Fisica', 8, 3)],\n",
       " 'Albert Einstein': [('Matematica', 10, 0),\n",
       "  ('Italiano', 10, 0),\n",
       "  ('Inglese', 10, 0),\n",
       "  ('Storia', 10, 0),\n",
       "  ('Geografia', 10, 0),\n",
       "  ('Fisica', 10, 0)]}"
      ]
     },
     "execution_count": 9,
     "metadata": {},
     "output_type": "execute_result"
    }
   ],
   "source": [
    "#main variable with student's name (key) and list of grades (value)\n",
    "report = {\n",
    "    \"Giuseppe Gullo\":[(\"Matematica\",9,0),(\"Italiano\",7,3),(\"Inglese\",7.5,4),(\"Storia\",7.5,4),(\"Geografia\",5,7)],\n",
    "    \"Antonio Barbera\":[(\"Matematica\",8,1),(\"Italiano\",6,1),(\"Inglese\",9.5,0),(\"Storia\",8,2),(\"Geografia\",8,1)],\n",
    "    \"Nicola Spina\":[(\"Matematica\",7.5,2),(\"Italiano\",6,2),(\"Inglese\",4,3),(\"Storia\",8.5,2),(\"Geografia\",8,2)]\n",
    "         } \n",
    "print(report)\n",
    "print(\"=\"*20)\n",
    "\n",
    "report[\"Albert Einstein\"] = [(\"Matematica\",10,0),(\"Italiano\",10,0),(\"Inglese\",10,0),(\"Storia\",10,0),(\"Geografia\",10,0)]\n",
    "\n",
    "print(report)\n",
    "print(\"=\"*20)\n",
    "\n",
    "report[\"Giuseppe Gullo\"].append((\"Fisica\",9.5,0))\n",
    "report[\"Antonio Barbera\"].append((\"Fisica\",8,1))\n",
    "report[\"Nicola Spina\"].append((\"Fisica\",8,3))\n",
    "report[\"Albert Einstein\"].append((\"Fisica\",10,0))\n",
    "\n",
    "print(report)\n",
    "print(\"=\"*20)"
   ]
  },
  {
   "cell_type": "markdown",
   "id": "7b34f31e",
   "metadata": {},
   "source": [
    "Punto 4: stampa matematica per Giuseppe Gullo"
   ]
  },
  {
   "cell_type": "code",
   "execution_count": 10,
   "id": "3f6d0bb2",
   "metadata": {},
   "outputs": [
    {
     "name": "stdout",
     "output_type": "stream",
     "text": [
      "Materia: Matematica, Voto: 9, Assenze: 0\n"
     ]
    }
   ],
   "source": [
    "math_gg = report[\"Giuseppe Gullo\"][0]\n",
    "print(f\"Materia: {math_gg[0]}, Voto: {math_gg[1]}, Assenze: {math_gg[2]}\")"
   ]
  },
  {
   "cell_type": "markdown",
   "id": "3718dbb5",
   "metadata": {},
   "source": [
    "Punto 5: stampa inglese per Nicola Spina"
   ]
  },
  {
   "cell_type": "code",
   "execution_count": 11,
   "id": "71303da7",
   "metadata": {},
   "outputs": [
    {
     "name": "stdout",
     "output_type": "stream",
     "text": [
      "Materia: Inglese, Voto: 4, Assenze: 3\n"
     ]
    }
   ],
   "source": [
    "eng_ns = report[\"Nicola Spina\"][2]\n",
    "print(f\"Materia: {eng_ns[0]}, Voto: {eng_ns[1]}, Assenze: {eng_ns[2]}\")"
   ]
  },
  {
   "cell_type": "markdown",
   "id": "9c1af60e",
   "metadata": {},
   "source": [
    "Punto 6: stampa voto in geografia per Antonio Barbera"
   ]
  },
  {
   "cell_type": "code",
   "execution_count": 13,
   "id": "7a606e15",
   "metadata": {},
   "outputs": [
    {
     "name": "stdout",
     "output_type": "stream",
     "text": [
      "Voto: 8\n"
     ]
    }
   ],
   "source": [
    "geo_ab = report[\"Antonio Barbera\"][-2]\n",
    "print(f\"Voto: {geo_ab[1]}\")"
   ]
  }
 ],
 "metadata": {
  "kernelspec": {
   "display_name": "Python 3 (ipykernel)",
   "language": "python",
   "name": "python3"
  },
  "language_info": {
   "codemirror_mode": {
    "name": "ipython",
    "version": 3
   },
   "file_extension": ".py",
   "mimetype": "text/x-python",
   "name": "python",
   "nbconvert_exporter": "python",
   "pygments_lexer": "ipython3",
   "version": "3.11.5"
  }
 },
 "nbformat": 4,
 "nbformat_minor": 5
}
