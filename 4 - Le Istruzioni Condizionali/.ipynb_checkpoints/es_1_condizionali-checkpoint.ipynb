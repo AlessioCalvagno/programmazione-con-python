{
 "cells": [
  {
   "cell_type": "markdown",
   "id": "da0e45c5",
   "metadata": {},
   "source": [
    "# Esecizi con le Istruzioni Condizionali\n",
    "\n",
    "## 1 If-Else [[Esercizio su HackerRank]](https://www.hackerrank.com/challenges/py-if-else/problem)\n",
    "Inserisci un numero intero *n* in input:\n",
    "* Se *n* è dispari stampa *Weird*\n",
    "* Se *n* è pari e contenuto all'interno del range che va da 2 a 5 stampa *Not Weird*\n",
    "* Se *n* è pari e incluso nel range che va da 6 a 20 stampa *Weird*\n",
    "* Se *n* è pari e maggiori di 20 stampa *Not Weird*."
   ]
  },
  {
   "cell_type": "code",
   "execution_count": 21,
   "id": "10816cae",
   "metadata": {},
   "outputs": [
    {
     "name": "stdout",
     "output_type": "stream",
     "text": [
      "Inserisci un numero intero: -6\n"
     ]
    }
   ],
   "source": [
    "n = int(input(\"Inserisci un numero intero: \"))"
   ]
  },
  {
   "cell_type": "code",
   "execution_count": 23,
   "id": "11777f4d",
   "metadata": {},
   "outputs": [],
   "source": [
    "#se n è dispari -> Weird\n",
    "if(n%2==1):\n",
    "    print(\"Weird\")\n",
    "#se n è pari ed è dentro [2,5] -> Not Weird\n",
    "elif((n%2==0) and (n in range(2,6,1))):\n",
    "    print(\"Not Weird\")\n",
    "#se n è pari ed è dentro [6,20] -> Weird\n",
    "elif((n%2==0) and (n in range(6,21,1))):\n",
    "    print(\"Weird\")\n",
    "#se n è pari ed è > 20 -> Not Weird\n",
    "elif((n%2==0) and n>20):\n",
    "    print(\"Not Weird\")"
   ]
  },
  {
   "cell_type": "markdown",
   "id": "52d09404",
   "metadata": {},
   "source": [
    "_Alternativa_: mettere gli elif dentro un mega else della condizioni dispari -> finisco negli elif solo se non sono dispari (così mi risparmio la prima condizione prima di and)"
   ]
  },
  {
   "cell_type": "code",
   "execution_count": 24,
   "id": "5b23fa40",
   "metadata": {},
   "outputs": [],
   "source": [
    "#se n è dispari -> Weird\n",
    "if(n%2==1):\n",
    "    print(\"Weird\")\n",
    "else:\n",
    "    #se n è pari ed è dentro [2,5] -> Not Weird\n",
    "    if(n in range(2,6,1)):\n",
    "        print(\"Not Weird\")\n",
    "    #se n è pari ed è dentro [6,20] -> Weird\n",
    "    elif(n in range(6,21,1)):\n",
    "        print(\"Weird\")\n",
    "    #se n è pari ed è > 20 -> Not Weird\n",
    "    elif(n>20):\n",
    "        print(\"Not Weird\")"
   ]
  },
  {
   "cell_type": "markdown",
   "id": "56636fa5",
   "metadata": {},
   "source": [
    "## Alternativa molto buona (e compatta) in soluzione ufficiale "
   ]
  }
 ],
 "metadata": {
  "kernelspec": {
   "display_name": "Python 3 (ipykernel)",
   "language": "python",
   "name": "python3"
  },
  "language_info": {
   "codemirror_mode": {
    "name": "ipython",
    "version": 3
   },
   "file_extension": ".py",
   "mimetype": "text/x-python",
   "name": "python",
   "nbconvert_exporter": "python",
   "pygments_lexer": "ipython3",
   "version": "3.11.5"
  }
 },
 "nbformat": 4,
 "nbformat_minor": 5
}
