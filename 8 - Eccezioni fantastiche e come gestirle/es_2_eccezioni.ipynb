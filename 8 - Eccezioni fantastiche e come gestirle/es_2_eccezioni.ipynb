{
 "cells": [
  {
   "cell_type": "markdown",
   "id": "a413713a",
   "metadata": {},
   "source": [
    "## Esercizio 2. Calcolatrice\n",
    "Definisci una funzione per eseguire dei semplici calcoli, la funzione prende in ingresso due valori numerici ed una stringa contenente un'operazione aritmetica (+, -, *, /) ed esegue tale operazione tra i due numeri. Acquisisci in input i parametri della funzione\n",
    "1. utilizza il try/except per gestire l'eccezione che si causa nel caso in cui viene inserito un valore non numerico.\n",
    "2. utilizza l'assert per assicurarti che l'operatore aritmetico sia valido, cioè sia un carattere tra +,-,*,/.\n",
    "3. utilizza il try/except per gestire il caso di divisioni per 0, in tal caso stampa semplicemente un messaggio 'Non puoi dividere per 0'.\n",
    "Per il punto 1 il programma non si deve bloccare, ma continua a chiedere all'utente un input, finchè esse è valido."
   ]
  },
  {
   "cell_type": "code",
   "execution_count": 1,
   "id": "a5bdd1ed",
   "metadata": {},
   "outputs": [
    {
     "ename": "ValueError",
     "evalue": "invalid literal for int() with base 10: 'aaa'",
     "output_type": "error",
     "traceback": [
      "\u001b[1;31m---------------------------------------------------------------------------\u001b[0m",
      "\u001b[1;31mValueError\u001b[0m                                Traceback (most recent call last)",
      "Cell \u001b[1;32mIn[1], line 1\u001b[0m\n\u001b[1;32m----> 1\u001b[0m a \u001b[38;5;241m=\u001b[39m \u001b[38;5;28;43mint\u001b[39;49m\u001b[43m(\u001b[49m\u001b[38;5;124;43m\"\u001b[39;49m\u001b[38;5;124;43maaa\u001b[39;49m\u001b[38;5;124;43m\"\u001b[39;49m\u001b[43m)\u001b[49m\n",
      "\u001b[1;31mValueError\u001b[0m: invalid literal for int() with base 10: 'aaa'"
     ]
    }
   ],
   "source": [
    "a = int(\"aaa\")\n",
    "#ValueError"
   ]
  },
  {
   "cell_type": "code",
   "execution_count": 2,
   "id": "2bfc57cf",
   "metadata": {},
   "outputs": [
    {
     "ename": "ZeroDivisionError",
     "evalue": "division by zero",
     "output_type": "error",
     "traceback": [
      "\u001b[1;31m---------------------------------------------------------------------------\u001b[0m",
      "\u001b[1;31mZeroDivisionError\u001b[0m                         Traceback (most recent call last)",
      "Cell \u001b[1;32mIn[2], line 1\u001b[0m\n\u001b[1;32m----> 1\u001b[0m \u001b[38;5;241;43m5\u001b[39;49m\u001b[38;5;241;43m/\u001b[39;49m\u001b[38;5;241;43m0\u001b[39;49m\n",
      "\u001b[1;31mZeroDivisionError\u001b[0m: division by zero"
     ]
    }
   ],
   "source": [
    "5/0"
   ]
  },
  {
   "cell_type": "code",
   "execution_count": 9,
   "id": "e4563056",
   "metadata": {},
   "outputs": [],
   "source": [
    "def calculator(num1,num2,operation):\n",
    "    try:\n",
    "        num1 = float(num1)\n",
    "        num2 = float(num2)\n",
    "        \n",
    "        assert(operation in [\"+\",\"-\",\"*\",\"/\"]),\"Operazione non supportata\"\n",
    "        \n",
    "        if operation == \"+\":\n",
    "            return num1+num2\n",
    "        if operation == \"-\":\n",
    "            return num1-num2\n",
    "        if operation == \"*\":\n",
    "            return num1*num2\n",
    "        if operation == \"/\":\n",
    "            return num1/num2\n",
    "    except ValueError as e:\n",
    "        print(\"num1 e num2 devono essere convertibili in float\")\n",
    "        print(e)\n",
    "    except AssertionError as e:\n",
    "        print(e)\n",
    "    except ZeroDivisionError as e:\n",
    "        print(e)\n",
    "    "
   ]
  },
  {
   "cell_type": "code",
   "execution_count": 4,
   "id": "f382c06f",
   "metadata": {},
   "outputs": [
    {
     "name": "stdout",
     "output_type": "stream",
     "text": [
      "0.825\n"
     ]
    }
   ],
   "source": [
    "print(calculator(3.3,4,\"/\"))"
   ]
  },
  {
   "cell_type": "code",
   "execution_count": 7,
   "id": "f718d91e",
   "metadata": {},
   "outputs": [
    {
     "name": "stdout",
     "output_type": "stream",
     "text": [
      "Operazione non supportata\n",
      "None\n"
     ]
    }
   ],
   "source": [
    "print(calculator(3.3,4,\"b\"))"
   ]
  },
  {
   "cell_type": "code",
   "execution_count": 10,
   "id": "baec3929",
   "metadata": {},
   "outputs": [
    {
     "name": "stdout",
     "output_type": "stream",
     "text": [
      "float division by zero\n",
      "None\n"
     ]
    }
   ],
   "source": [
    "print(calculator(3.3,0,\"/\"))"
   ]
  },
  {
   "cell_type": "code",
   "execution_count": 11,
   "id": "5deb8c7b",
   "metadata": {},
   "outputs": [
    {
     "name": "stdout",
     "output_type": "stream",
     "text": [
      "num1 e num2 devono essere convertibili in float\n",
      "could not convert string to float: 'cinque'\n",
      "None\n"
     ]
    }
   ],
   "source": [
    "print(calculator(\"cinque\",4,\"/\"))"
   ]
  },
  {
   "cell_type": "code",
   "execution_count": 5,
   "id": "9bc70686",
   "metadata": {},
   "outputs": [
    {
     "name": "stdout",
     "output_type": "stream",
     "text": [
      "7.3\n"
     ]
    }
   ],
   "source": [
    "print(calculator(3.3,4,\"+\"))"
   ]
  },
  {
   "cell_type": "code",
   "execution_count": 14,
   "id": "9ae12246",
   "metadata": {},
   "outputs": [
    {
     "name": "stdout",
     "output_type": "stream",
     "text": [
      "Inserisci un valore numerico: 4\n",
      "Inserisci un valore numerico: g\n",
      "Input non valido\n",
      "Inserisci un valore numerico: s\n",
      "Input non valido\n",
      "Inserisci un valore numerico: \n",
      "Input non valido\n",
      "Inserisci un valore numerico: \n",
      "Input non valido\n",
      "Inserisci un valore numerico: 3\n",
      "7.0\n"
     ]
    }
   ],
   "source": [
    " #Per la parte finale della consegna\n",
    "def enter_number():\n",
    "    num = None\n",
    "    while num == None:\n",
    "        try:\n",
    "            num = float(input(\"Inserisci un valore numerico: \"))\n",
    "            return num\n",
    "        except ValueError as e:\n",
    "            print(\"Input non valido\")\n",
    "            \n",
    "            \n",
    "a = enter_number()\n",
    "b = enter_number()\n",
    "c = calculator(a,b,\"+\")\n",
    "print(c)\n"
   ]
  }
 ],
 "metadata": {
  "kernelspec": {
   "display_name": "Python 3 (ipykernel)",
   "language": "python",
   "name": "python3"
  },
  "language_info": {
   "codemirror_mode": {
    "name": "ipython",
    "version": 3
   },
   "file_extension": ".py",
   "mimetype": "text/x-python",
   "name": "python",
   "nbconvert_exporter": "python",
   "pygments_lexer": "ipython3",
   "version": "3.11.5"
  }
 },
 "nbformat": 4,
 "nbformat_minor": 5
}
