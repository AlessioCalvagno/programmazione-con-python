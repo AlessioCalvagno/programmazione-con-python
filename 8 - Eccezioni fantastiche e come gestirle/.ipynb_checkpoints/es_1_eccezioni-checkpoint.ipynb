{
 "cells": [
  {
   "cell_type": "markdown",
   "id": "c7bad52f",
   "metadata": {},
   "source": [
    "## Esercizio 1. Vettori Reloaded\n",
    "Durante la nostra esercitazione con le classi abbiamo realizzato una classe per rappresentare vettori, in più metodi abbiamo verificato che la lunghezza di due vettori fosse uguale. Rimpiazziamo l'if utilizzato in questi casi con un assert."
   ]
  },
  {
   "cell_type": "code",
   "execution_count": 22,
   "id": "d61fffb7",
   "metadata": {},
   "outputs": [
    {
     "name": "stderr",
     "output_type": "stream",
     "text": [
      "<>:39: SyntaxWarning: assertion is always true, perhaps remove parentheses?\n",
      "<>:39: SyntaxWarning: assertion is always true, perhaps remove parentheses?\n",
      "C:\\Users\\aless\\AppData\\Local\\Temp\\ipykernel_14188\\201462373.py:39: SyntaxWarning: assertion is always true, perhaps remove parentheses?\n",
      "  assert(len(self._values) != len(vector._values),\"I vettori hanno dimensione diversa\")\n"
     ]
    }
   ],
   "source": [
    "class Vector:\n",
    "    \"\"\"\n",
    "    Classe che implementa un vettore in senso matematico.\n",
    "    Supporta le operazioni matematiche base tra vettori.\n",
    "    \"\"\"\n",
    "    \n",
    "    def __init__(self,values):\n",
    "        \"\"\"\n",
    "        values(list): lista built-in che contiene le componenti del vettore.\n",
    "        \"\"\"\n",
    "        self._values = values\n",
    "    \n",
    "    def get_values(self):\n",
    "        return self._values\n",
    "    \n",
    "    def __len__(self):\n",
    "        \"\"\"\n",
    "        Lunghezza del vettore (int)\n",
    "        \"\"\"\n",
    "        return len(self.get_values())\n",
    "    \n",
    "    #punto 1 - stampa\n",
    "    def __repr__(self):\n",
    "        return str(self.get_values())\n",
    "    \n",
    "    #indexing (lo definisco prima perchè mi serve per i metodi sotto)\n",
    "    def __getitem__(self,idx):\n",
    "        \"\"\"\n",
    "        Estrae componente i-esima del vettore (NB: i parte da 0)\n",
    "        \"\"\"\n",
    "        return self.get_values()[idx]\n",
    "    \n",
    "    \n",
    "    #punto 2 - somma\n",
    "    def __add__(self,vector):\n",
    "        \"\"\"\n",
    "        Somma elemento per elemento tra due vettori.\n",
    "        \"\"\"\n",
    "        assert(len(self._values) != len(vector._values),\"I vettori hanno dimensione diversa\")\n",
    "        #self.check_len(vector)\n",
    "        \n",
    "        somma_list = []\n",
    "        for i in range(len(vector)):\n",
    "            #l'assegnazione funzionerà?? EDIT: No, non funziona.\n",
    "            #somma[i] = self[i] + vector[i]\n",
    "            \n",
    "            #bisogna fare un workaround\n",
    "            somma_list.append(self[i] + vector[i])\n",
    "        \n",
    "        return Vector(somma_list)\n",
    "    \n",
    "    \n",
    "    # punto 3 - differenza\n",
    "    def __sub__(self,vector):\n",
    "        \"\"\"\n",
    "        Differenza elemento per elemento tra due vettori.\n",
    "        \"\"\"\n",
    "        #self.check_len(vector)\n",
    "        \n",
    "        diff_list = []\n",
    "        for i in range(len(vector)):\n",
    "            #l'assegnazione funzionerà??\n",
    "            diff_list.append(self[i] - vector[i])\n",
    "        \n",
    "        return Vector(diff_list)\n",
    "    \n",
    "    #punto 4 - prodotto scalare\n",
    "    def __mul__(self,vector):\n",
    "        \"\"\"\n",
    "        Prodotto scalare tra due vettori\n",
    "        \"\"\"\n",
    "        #self.check_len(vector)\n",
    "        \n",
    "        res = 0\n",
    "        for i in range(len(vector)):\n",
    "            res+= self[i] * vector[i]\n",
    "        \n",
    "        return res\n",
    "    \n",
    "    #somma di tutti gli elementi del vettore\n",
    "    def sum(self):    \n",
    "        \"\"\"\n",
    "        Somma di tutti gli elementi del vettore\n",
    "        \"\"\"\n",
    "        somma = 0\n",
    "        for i in range(len(self)):\n",
    "            somma+= self[i]\n",
    "        \n",
    "        return somma\n",
    "    \n",
    "    #norma 2 del vettore\n",
    "    def norm(self):\n",
    "        \"\"\"\n",
    "        Calcola la norma 2 del vettore\n",
    "        \"\"\"\n",
    "        #norma2 = radice quadrata del prodotto scalare del vett. per sè stesso\n",
    "        return (self*self)**0.5\n",
    "    \n",
    "   # def check_len(self,vector):\n",
    "   #     assert(len(self.get_values()) == len(vector.get_values()),\"I vettori hanno dimensione diversa\")\n",
    "    "
   ]
  },
  {
   "cell_type": "code",
   "execution_count": 23,
   "id": "351c3ccf",
   "metadata": {},
   "outputs": [
    {
     "name": "stdout",
     "output_type": "stream",
     "text": [
      "list index out of range\n"
     ]
    }
   ],
   "source": [
    "v = Vector([1,2,3])\n",
    "w = Vector([7,9,10,52])\n",
    "\n",
    "print(v+w)\n",
    "try:\n",
    "    print(v+w)\n",
    "except Exception as e:\n",
    "    print(e)"
   ]
  }
 ],
 "metadata": {
  "kernelspec": {
   "display_name": "Python 3 (ipykernel)",
   "language": "python",
   "name": "python3"
  },
  "language_info": {
   "codemirror_mode": {
    "name": "ipython",
    "version": 3
   },
   "file_extension": ".py",
   "mimetype": "text/x-python",
   "name": "python",
   "nbconvert_exporter": "python",
   "pygments_lexer": "ipython3",
   "version": "3.11.5"
  }
 },
 "nbformat": 4,
 "nbformat_minor": 5
}
