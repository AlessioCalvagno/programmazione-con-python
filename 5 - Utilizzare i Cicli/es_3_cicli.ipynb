{
 "cells": [
  {
   "cell_type": "markdown",
   "id": "f6a7aade",
   "metadata": {},
   "source": [
    "## 3. Registro [[Esercizio su HackerRank](https://www.hackerrank.com/challenges/finding-the-percentage/problem)]\n",
    "Hai a disposizione un record di *N* studenti. Ogni record contiene il nome dello studente e il suo voto in Matematica, Fisica e Chimica. I voti possono essere numeri con la virgola. Un utente inserisci un intero *N* seguito da il nome e i voti di N studenti. Il programma deve salvare i record in un dizionario. Allla fine l'utente inserirà il nome di uno studente, il programma dovrà dare il output la media dei voti di tale studente arrotandata a due cifre dopo la virgola.\n",
    "<br><br>\n",
    "**ESEMPIO DI INPUT**\n",
    "<br>\n",
    "3<br>\n",
    "Krishna 67 68 69<br>\n",
    "Arjun 70 98 63<br>\n",
    "Malika 52 56 60<br>\n",
    "Malika<br>\n",
    "<br>\n",
    "**ESEMPIO DI OUTPUT**\n",
    "<br>\n",
    "56.00\n"
   ]
  },
  {
   "cell_type": "code",
   "execution_count": 3,
   "id": "01658d16",
   "metadata": {},
   "outputs": [
    {
     "name": "stdout",
     "output_type": "stream",
     "text": [
      "Inserisci numero di studenti: 5\n"
     ]
    }
   ],
   "source": [
    "#Prima si fa l'input di n (numero degli studenti)\n",
    "n = int(input(\"Inserisci numero di studenti: \"))"
   ]
  },
  {
   "cell_type": "code",
   "execution_count": 4,
   "id": "e225efd4",
   "metadata": {},
   "outputs": [
    {
     "name": "stdout",
     "output_type": "stream",
     "text": [
      "Nome dello studente: Nino\n",
      "Voto in matematica: 9\n",
      "Voto in fisica: 8\n",
      "Voto in chimica: 7\n",
      "Nome dello studente: Melo\n",
      "Voto in matematica: 7\n",
      "Voto in fisica: 6\n",
      "Voto in chimica: 4\n",
      "Nome dello studente: Gianni\n",
      "Voto in matematica: 6\n",
      "Voto in fisica: 4\n",
      "Voto in chimica: 5\n",
      "Nome dello studente: Salvo\n",
      "Voto in matematica: 8\n",
      "Voto in fisica: 8\n",
      "Voto in chimica: 5\n",
      "Nome dello studente: Toni\n",
      "Voto in matematica: 6\n",
      "Voto in fisica: 5\n",
      "Voto in chimica: 9\n"
     ]
    }
   ],
   "source": [
    "#Poi si inseriscono gli n record (ogni record è una coppia chiave-valore)\n",
    "students = {}\n",
    "for i in range(n):\n",
    "    print(f\"ciclo {n}\")\n",
    "    name = input(\"Nome dello studente: \")\n",
    "    maths = int(input(\"Voto in matematica: \"))b\n",
    "    physics = int(input(\"Voto in fisica: \"))\n",
    "    chemistry = int(input(\"Voto in chimica: \"))\n",
    "    students[name] = [maths,physics,chemistry]\n",
    "print(students)"
   ]
  },
  {
   "cell_type": "code",
   "execution_count": 19,
   "id": "a4f970ac",
   "metadata": {},
   "outputs": [
    {
     "name": "stdout",
     "output_type": "stream",
     "text": [
      "Di quale studente vuoi la media? Toni\n",
      "La media di Toni è 6.67\n"
     ]
    }
   ],
   "source": [
    "#Parte finale: input di un nome di uno studente e calcolo media\n",
    "s = input(\"Di quale studente vuoi la media? \")\n",
    "if(students.__contains__(s)):\n",
    "    grades_sum = 0\n",
    "    for grade in students[s]:\n",
    "        grades_sum += grade\n",
    "    mean = grades_sum/len(students[s])\n",
    "    #per calcolare la somma di una lista si può fare anche sum(students[s])\n",
    "    print(f\"La media di {s} è {mean:.2f}\")"
   ]
  },
  {
   "cell_type": "code",
   "execution_count": 11,
   "id": "b532ab90",
   "metadata": {},
   "outputs": [
    {
     "data": {
      "text/plain": [
       "True"
      ]
     },
     "execution_count": 11,
     "metadata": {},
     "output_type": "execute_result"
    }
   ],
   "source": [
    "students.__contains__(\"Nino\")"
   ]
  },
  {
   "cell_type": "code",
   "execution_count": 9,
   "id": "d68d1c9b",
   "metadata": {},
   "outputs": [
    {
     "name": "stdout",
     "output_type": "stream",
     "text": [
      "Help on class dict in module builtins:\n",
      "\n",
      "class dict(object)\n",
      " |  dict() -> new empty dictionary\n",
      " |  dict(mapping) -> new dictionary initialized from a mapping object's\n",
      " |      (key, value) pairs\n",
      " |  dict(iterable) -> new dictionary initialized as if via:\n",
      " |      d = {}\n",
      " |      for k, v in iterable:\n",
      " |          d[k] = v\n",
      " |  dict(**kwargs) -> new dictionary initialized with the name=value pairs\n",
      " |      in the keyword argument list.  For example:  dict(one=1, two=2)\n",
      " |  \n",
      " |  Built-in subclasses:\n",
      " |      StgDict\n",
      " |  \n",
      " |  Methods defined here:\n",
      " |  \n",
      " |  __contains__(self, key, /)\n",
      " |      True if the dictionary has the specified key, else False.\n",
      " |  \n",
      " |  __delitem__(self, key, /)\n",
      " |      Delete self[key].\n",
      " |  \n",
      " |  __eq__(self, value, /)\n",
      " |      Return self==value.\n",
      " |  \n",
      " |  __ge__(self, value, /)\n",
      " |      Return self>=value.\n",
      " |  \n",
      " |  __getattribute__(self, name, /)\n",
      " |      Return getattr(self, name).\n",
      " |  \n",
      " |  __getitem__(...)\n",
      " |      x.__getitem__(y) <==> x[y]\n",
      " |  \n",
      " |  __gt__(self, value, /)\n",
      " |      Return self>value.\n",
      " |  \n",
      " |  __init__(self, /, *args, **kwargs)\n",
      " |      Initialize self.  See help(type(self)) for accurate signature.\n",
      " |  \n",
      " |  __ior__(self, value, /)\n",
      " |      Return self|=value.\n",
      " |  \n",
      " |  __iter__(self, /)\n",
      " |      Implement iter(self).\n",
      " |  \n",
      " |  __le__(self, value, /)\n",
      " |      Return self<=value.\n",
      " |  \n",
      " |  __len__(self, /)\n",
      " |      Return len(self).\n",
      " |  \n",
      " |  __lt__(self, value, /)\n",
      " |      Return self<value.\n",
      " |  \n",
      " |  __ne__(self, value, /)\n",
      " |      Return self!=value.\n",
      " |  \n",
      " |  __or__(self, value, /)\n",
      " |      Return self|value.\n",
      " |  \n",
      " |  __repr__(self, /)\n",
      " |      Return repr(self).\n",
      " |  \n",
      " |  __reversed__(self, /)\n",
      " |      Return a reverse iterator over the dict keys.\n",
      " |  \n",
      " |  __ror__(self, value, /)\n",
      " |      Return value|self.\n",
      " |  \n",
      " |  __setitem__(self, key, value, /)\n",
      " |      Set self[key] to value.\n",
      " |  \n",
      " |  __sizeof__(...)\n",
      " |      D.__sizeof__() -> size of D in memory, in bytes\n",
      " |  \n",
      " |  clear(...)\n",
      " |      D.clear() -> None.  Remove all items from D.\n",
      " |  \n",
      " |  copy(...)\n",
      " |      D.copy() -> a shallow copy of D\n",
      " |  \n",
      " |  get(self, key, default=None, /)\n",
      " |      Return the value for key if key is in the dictionary, else default.\n",
      " |  \n",
      " |  items(...)\n",
      " |      D.items() -> a set-like object providing a view on D's items\n",
      " |  \n",
      " |  keys(...)\n",
      " |      D.keys() -> a set-like object providing a view on D's keys\n",
      " |  \n",
      " |  pop(...)\n",
      " |      D.pop(k[,d]) -> v, remove specified key and return the corresponding value.\n",
      " |      \n",
      " |      If the key is not found, return the default if given; otherwise,\n",
      " |      raise a KeyError.\n",
      " |  \n",
      " |  popitem(self, /)\n",
      " |      Remove and return a (key, value) pair as a 2-tuple.\n",
      " |      \n",
      " |      Pairs are returned in LIFO (last-in, first-out) order.\n",
      " |      Raises KeyError if the dict is empty.\n",
      " |  \n",
      " |  setdefault(self, key, default=None, /)\n",
      " |      Insert key with a value of default if key is not in the dictionary.\n",
      " |      \n",
      " |      Return the value for key if key is in the dictionary, else default.\n",
      " |  \n",
      " |  update(...)\n",
      " |      D.update([E, ]**F) -> None.  Update D from dict/iterable E and F.\n",
      " |      If E is present and has a .keys() method, then does:  for k in E: D[k] = E[k]\n",
      " |      If E is present and lacks a .keys() method, then does:  for k, v in E: D[k] = v\n",
      " |      In either case, this is followed by: for k in F:  D[k] = F[k]\n",
      " |  \n",
      " |  values(...)\n",
      " |      D.values() -> an object providing a view on D's values\n",
      " |  \n",
      " |  ----------------------------------------------------------------------\n",
      " |  Class methods defined here:\n",
      " |  \n",
      " |  __class_getitem__(...) from builtins.type\n",
      " |      See PEP 585\n",
      " |  \n",
      " |  fromkeys(iterable, value=None, /) from builtins.type\n",
      " |      Create a new dictionary with keys from iterable and values set to value.\n",
      " |  \n",
      " |  ----------------------------------------------------------------------\n",
      " |  Static methods defined here:\n",
      " |  \n",
      " |  __new__(*args, **kwargs) from builtins.type\n",
      " |      Create and return a new object.  See help(type) for accurate signature.\n",
      " |  \n",
      " |  ----------------------------------------------------------------------\n",
      " |  Data and other attributes defined here:\n",
      " |  \n",
      " |  __hash__ = None\n",
      "\n"
     ]
    }
   ],
   "source": [
    "help(dict)"
   ]
  },
  {
   "cell_type": "code",
   "execution_count": null,
   "id": "81c22b64",
   "metadata": {},
   "outputs": [],
   "source": []
  }
 ],
 "metadata": {
  "kernelspec": {
   "display_name": "Python 3 (ipykernel)",
   "language": "python",
   "name": "python3"
  },
  "language_info": {
   "codemirror_mode": {
    "name": "ipython",
    "version": 3
   },
   "file_extension": ".py",
   "mimetype": "text/x-python",
   "name": "python",
   "nbconvert_exporter": "python",
   "pygments_lexer": "ipython3",
   "version": "3.11.5"
  }
 },
 "nbformat": 4,
 "nbformat_minor": 5
}
