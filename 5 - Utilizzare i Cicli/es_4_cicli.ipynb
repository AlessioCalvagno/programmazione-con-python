{
 "cells": [
  {
   "cell_type": "markdown",
   "id": "bc7707cf",
   "metadata": {},
   "source": [
    "## 4. Palindromi\n",
    "Leggi una stringa in input all'interno di un loop. Se la stringa è uguale a \"stop\" interrompi il programma, altrimenti verifica se la stringa è un palindromo, in caso positivo stampa \"PAROLA è un palidromo\" inserendo la parola inserita in input al posto di PAROLA, altrimenti stampa \" PAROLA non è un palindromo\".\n",
    "<br><br>\n",
    "**SUGGERIMENTO**<br>\n",
    "Un palindromo è una parola che può essere letta allo stesso modo in entrambi i sensi (es. radar, osso, aerea)."
   ]
  },
  {
   "cell_type": "code",
   "execution_count": 5,
   "id": "1a159f66",
   "metadata": {},
   "outputs": [
    {
     "name": "stdout",
     "output_type": "stream",
     "text": [
      "Inserisci una parola, 'stop' per terminare: radar\n",
      "radar  è un palindromo\n",
      "Inserisci una parola, 'stop' per terminare: ciao\n",
      "ciao non è un palindromo\n",
      "Inserisci una parola, 'stop' per terminare: lol\n",
      "lol  è un palindromo\n",
      "Inserisci una parola, 'stop' per terminare: aerea\n",
      "aerea  è un palindromo\n",
      "Inserisci una parola, 'stop' per terminare: itopinonavevanonipoti\n",
      "itopinonavevanonipoti  è un palindromo\n",
      "Inserisci una parola, 'stop' per terminare: stop\n"
     ]
    }
   ],
   "source": [
    "word = input(\"Inserisci una parola, 'stop' per terminare: \")\n",
    "\n",
    "while word != \"stop\":\n",
    "    word_rev = word[::-1]\n",
    "    print(f\"{word} {'' if word == word_rev else 'non'} è un palindromo\")\n",
    "    word = input(\"Inserisci una parola, 'stop' per terminare: \")"
   ]
  },
  {
   "cell_type": "code",
   "execution_count": 3,
   "id": "60a042db",
   "metadata": {},
   "outputs": [
    {
     "name": "stdout",
     "output_type": "stream",
     "text": [
      "pots\n"
     ]
    }
   ],
   "source": [
    "s = \"stop\"\n",
    "print(s[::-1])"
   ]
  }
 ],
 "metadata": {
  "kernelspec": {
   "display_name": "Python 3 (ipykernel)",
   "language": "python",
   "name": "python3"
  },
  "language_info": {
   "codemirror_mode": {
    "name": "ipython",
    "version": 3
   },
   "file_extension": ".py",
   "mimetype": "text/x-python",
   "name": "python",
   "nbconvert_exporter": "python",
   "pygments_lexer": "ipython3",
   "version": "3.11.5"
  }
 },
 "nbformat": 4,
 "nbformat_minor": 5
}
