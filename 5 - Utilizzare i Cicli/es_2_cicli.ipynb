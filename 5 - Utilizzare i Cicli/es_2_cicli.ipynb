{
 "cells": [
  {
   "cell_type": "markdown",
   "id": "ea746a3a",
   "metadata": {},
   "source": [
    "## 2. Secondo Arrivato [[Esercizio su HackerRank](https://www.hackerrank.com/challenges/find-second-maximum-number-in-a-list/problem)]\n",
    "Ricevi in input una lista con i punteggi dei partecipanti alla Giornata dello Sport Universitaria, trova il punteggio del secondo classificato.\n",
    "<br><br>\n",
    "**ESEMPIO DI INPUT**\n",
    "<br>\n",
    "2 3 6 6 5\n",
    "<br>\n",
    "**ESEMPIO DI OUTPUT**\n",
    "<br>\n",
    "5\n",
    "\n",
    "**SUGGERIMENTI**\n",
    "1. Tramite il metodo .split() possiamo dividere gli elementi di una stringa in base agli spazi.\n",
    "2. Possiamo applicare una trasformazione a tutti gli elementi di una collezione tilizzando la funzione *map*, questa funzione ritorna un generatore che possiamo riconvertire in una collezione."
   ]
  },
  {
   "cell_type": "code",
   "execution_count": 1,
   "id": "a99b9b8d",
   "metadata": {},
   "outputs": [
    {
     "name": "stdout",
     "output_type": "stream",
     "text": [
      "<class 'list'> ['2', '3', '6', '6', '5']\n"
     ]
    }
   ],
   "source": [
    "l = \"2 3 6 6 5\"\n",
    "l = l.split()\n",
    "print(type(l), l)"
   ]
  },
  {
   "cell_type": "code",
   "execution_count": 2,
   "id": "e1e8797b",
   "metadata": {},
   "outputs": [
    {
     "name": "stdout",
     "output_type": "stream",
     "text": [
      "<class 'list'> [2, 3, 6, 6, 5]\n"
     ]
    }
   ],
   "source": [
    "l = list(map(int, l))\n",
    "print(type(l), l)"
   ]
  },
  {
   "cell_type": "markdown",
   "id": "abd1cc35",
   "metadata": {},
   "source": [
    "----------------------------"
   ]
  },
  {
   "cell_type": "code",
   "execution_count": 9,
   "id": "f94bd8d2",
   "metadata": {},
   "outputs": [
    {
     "name": "stdout",
     "output_type": "stream",
     "text": [
      "inserisci punteggi: 5 9 8 6 5 5 2 1 3 0 0 5 7 4 4\n"
     ]
    }
   ],
   "source": [
    "scores_str = input(\"inserisci punteggi: \")\n",
    "scores_list = scores_str.split() #default split by whitespace\n",
    "scores = list(map(int,scores_list))\n"
   ]
  },
  {
   "cell_type": "markdown",
   "id": "7cdb2444",
   "metadata": {},
   "source": [
    "### Trovare il secondo classificato \n",
    "E come si fa?? \n",
    "Ordino la lista e mi prendo il secondo, oppure faccio ricerca del massimo e... E poi?! Non mi serve il massimo ma quello subito sotto..."
   ]
  },
  {
   "cell_type": "markdown",
   "id": "d663c6aa",
   "metadata": {},
   "source": [
    "### Metodo 1\n",
    "Si rimuovono i duplicati (passando al set) -> sul set, per ogni valore conto quanti valori maggiori di quel valore ci sono -> il secondo classificato è quello per cui c'è un solo el. maggiore.\n",
    "\n",
    "**NB: passando al set perdo l'ordine originale della lista (perchè il set non è ordinato)**"
   ]
  },
  {
   "cell_type": "code",
   "execution_count": 10,
   "id": "819ae285",
   "metadata": {},
   "outputs": [
    {
     "name": "stdout",
     "output_type": "stream",
     "text": [
      "secondo classificato è 8\n"
     ]
    }
   ],
   "source": [
    "scores_set = set(scores) #passo a set (rimuovo duplicati)\n",
    "d = {} #faccio il giro del contare i maggiori davanti tramite un dict\n",
    "#EDIT: non serve il dizionario -> posso interrompere il ciclo quando serve\n",
    "for score in scores_set:\n",
    "    #d[score] = 0\n",
    "    larger = 0\n",
    "    #con questo secondo for confronto tutti gli elementi con score selezionato\n",
    "    for score2 in scores_set:\n",
    "        if score2 > score:\n",
    "            larger += 1\n",
    "        #fine if\n",
    "    #fine for interno    \n",
    "    if larger == 1: # in questo caso ho beccato il secondo classificato -> interrompo i ciclo\n",
    "            break\n",
    "print(f\"secondo classificato è {score}\")\n"
   ]
  },
  {
   "cell_type": "markdown",
   "id": "88d3241a",
   "metadata": {},
   "source": [
    "### Metodo 2\n",
    "Ordino la lista in modo decrescente e prendo il secondo elemento"
   ]
  },
  {
   "cell_type": "code",
   "execution_count": 12,
   "id": "686545b8",
   "metadata": {},
   "outputs": [
    {
     "name": "stdout",
     "output_type": "stream",
     "text": [
      "[9, 8, 7, 6, 5, 5, 5, 5, 4, 4, 3, 2, 1, 0, 0]\n",
      "secondo classificato è 8\n"
     ]
    }
   ],
   "source": [
    "scores.sort(reverse = True) #con reverse = True dico di ordinare in modo decrescente\n",
    "print(scores) #per debug\n",
    "print(f\"secondo classificato è {scores[1]}\")"
   ]
  }
 ],
 "metadata": {
  "kernelspec": {
   "display_name": "Python 3 (ipykernel)",
   "language": "python",
   "name": "python3"
  },
  "language_info": {
   "codemirror_mode": {
    "name": "ipython",
    "version": 3
   },
   "file_extension": ".py",
   "mimetype": "text/x-python",
   "name": "python",
   "nbconvert_exporter": "python",
   "pygments_lexer": "ipython3",
   "version": "3.11.5"
  }
 },
 "nbformat": 4,
 "nbformat_minor": 5
}
