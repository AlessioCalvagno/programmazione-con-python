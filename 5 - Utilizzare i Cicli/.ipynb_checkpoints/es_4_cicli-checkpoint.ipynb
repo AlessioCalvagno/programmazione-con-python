{
 "cells": [
  {
   "cell_type": "markdown",
   "id": "d8f30c0b",
   "metadata": {},
   "source": [
    "## 4. Palindromi\n",
    "Leggi una stringa in input all'interno di un loop. Se la stringa è uguale a \"stop\" interrompi il programma, altrimenti verifica se la stringa è un palindromo, in caso positivo stampa \"PAROLA è un palidromo\" inserendo la parola inserita in input al posto di PAROLA, altrimenti stampa \" PAROLA non è un palindromo\".\n",
    "<br><br>\n",
    "**SUGGERIMENTO**<br>\n",
    "Un palindromo è una parola che può essere letta allo stesso modo in entrambi i sensi (es. radar, osso, aerea)."
   ]
  },
  {
   "cell_type": "code",
   "execution_count": 4,
   "id": "36d231e9",
   "metadata": {},
   "outputs": [
    {
     "ename": "SyntaxError",
     "evalue": "f-string: expecting '}' (3359169399.py, line 5)",
     "output_type": "error",
     "traceback": [
      "\u001b[1;36m  Cell \u001b[1;32mIn[4], line 5\u001b[1;36m\u001b[0m\n\u001b[1;33m    print(f\"{word} {\"\" if word == word_rev else \"non\"} è un palindromo\")\u001b[0m\n\u001b[1;37m                                                 ^\u001b[0m\n\u001b[1;31mSyntaxError\u001b[0m\u001b[1;31m:\u001b[0m f-string: expecting '}'\n"
     ]
    }
   ],
   "source": [
    "word = input(\"Inserisci una parola, 'stop' per terminare: \")\n",
    "\n",
    "while word != \"stop\":\n",
    "    word_rev = word[::-1]\n",
    "    print(f\"{word} {'' if word == word_rev else 'non'} è un palindromo\")\n",
    "    word = input(\"Inserisci una parola, 'stop' per terminare: \")"
   ]
  },
  {
   "cell_type": "code",
   "execution_count": 3,
   "id": "9859d25c",
   "metadata": {},
   "outputs": [
    {
     "name": "stdout",
     "output_type": "stream",
     "text": [
      "pots\n"
     ]
    }
   ],
   "source": [
    "s = \"stop\"\n",
    "print(s[::-1])"
   ]
  }
 ],
 "metadata": {
  "kernelspec": {
   "display_name": "Python 3 (ipykernel)",
   "language": "python",
   "name": "python3"
  },
  "language_info": {
   "codemirror_mode": {
    "name": "ipython",
    "version": 3
   },
   "file_extension": ".py",
   "mimetype": "text/x-python",
   "name": "python",
   "nbconvert_exporter": "python",
   "pygments_lexer": "ipython3",
   "version": "3.11.5"
  }
 },
 "nbformat": 4,
 "nbformat_minor": 5
}
