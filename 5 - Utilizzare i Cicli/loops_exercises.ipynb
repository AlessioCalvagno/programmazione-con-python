{
 "cells": [
  {
   "cell_type": "markdown",
   "metadata": {
    "colab_type": "text",
    "id": "view-in-github"
   },
   "source": [
    "<a href=\"https://colab.research.google.com/github/ProfAI/programmazione-con-python/blob/main/5%20-%20Utilizzare%20i%20Cicli/loops_exercises.ipynb\" target=\"_parent\"><img src=\"https://colab.research.google.com/assets/colab-badge.svg\" alt=\"Open In Colab\"/></a>"
   ]
  },
  {
   "cell_type": "markdown",
   "metadata": {
    "id": "87UN_ZnodhwZ"
   },
   "source": [
    "# Esercizi con i Cicli"
   ]
  },
  {
   "cell_type": "markdown",
   "metadata": {
    "id": "jnX-HZnzdlaQ"
   },
   "source": [
    "## 1. Potenze [[Esercizio su HackerRank](https://www.hackerrank.com/challenges/python-loops/problem)]\n",
    "\n",
    "Leggi un intero *N* compreso tra 1 e 20 in input. Per tutti gli interi non negativi *i* < N stampa $i^2$."
   ]
  },
  {
   "cell_type": "code",
   "execution_count": null,
   "metadata": {
    "colab": {
     "base_uri": "https://localhost:8080/",
     "height": 125
    },
    "id": "fLDEVZVqdg1F",
    "outputId": "0ff92e7d-3450-4c1b-bf7f-647128a2f107"
   },
   "outputs": [
    {
     "name": "stdout",
     "output_type": "stream",
     "text": [
      "5\n",
      "0\n",
      "1\n",
      "4\n",
      "9\n",
      "16\n"
     ]
    }
   ],
   "source": [
    "n = int(input())\n",
    "\n",
    "for i in range(n):\n",
    "    print(i**2)"
   ]
  },
  {
   "cell_type": "markdown",
   "metadata": {
    "id": "hYdC3tICopao"
   },
   "source": [
    "## 2. Secondo Arrivato [[Esercizio su HackerRank](https://www.hackerrank.com/challenges/find-second-maximum-number-in-a-list/problem)]\n",
    "Ricevi in input una lista con i punteggi dei partecipanti alla Giornata dello Sport Universitaria, trova il punteggio del secondo classificato.\n",
    "<br><br>\n",
    "**ESEMPIO DI INPUT**\n",
    "<br>\n",
    "2 3 6 6 5\n",
    "<br>\n",
    "**ESEMPIO DI OUTPUT**\n",
    "<br>\n",
    "5\n",
    "**SUGGERIMENTI**\n",
    "1. Tramite il metodo .split() possiamo dividere gli elementi di una stringa in base agli spazi.\n",
    "2. Possiamo applicare una trasformazione a tutti gli elementi di una collezione tilizzando la funzione *map*, questa funzione ritorna un generatore che possiamo riconvertire in una collezione."
   ]
  },
  {
   "cell_type": "code",
   "execution_count": 2,
   "metadata": {
    "colab": {
     "base_uri": "https://localhost:8080/"
    },
    "id": "97QSprCbdFls",
    "outputId": "521f0f51-8fb4-4cda-a5a9-2c004bf01044"
   },
   "outputs": [
    {
     "name": "stdout",
     "output_type": "stream",
     "text": [
      "<class 'list'> ['2', '3', '6', '6', '5']\n"
     ]
    }
   ],
   "source": [
    "l = \"2 3 6 6 5\"\n",
    "l = l.split()\n",
    "print(type(l), l)"
   ]
  },
  {
   "cell_type": "code",
   "execution_count": 3,
   "metadata": {
    "colab": {
     "base_uri": "https://localhost:8080/"
    },
    "id": "QMQv4Rq4dPEL",
    "outputId": "e5426eb8-8cc2-4e25-bc8a-9fd879a1c193"
   },
   "outputs": [
    {
     "name": "stdout",
     "output_type": "stream",
     "text": [
      "<class 'list'> [2, 3, 6, 6, 5]\n"
     ]
    }
   ],
   "source": [
    "l = list(map(int, l))\n",
    "print(type(l), l)"
   ]
  },
  {
   "cell_type": "code",
   "execution_count": null,
   "metadata": {
    "colab": {
     "base_uri": "https://localhost:8080/",
     "height": 53
    },
    "id": "zejk__gDo9Hh",
    "outputId": "1c941291-30b8-45aa-a81c-4d6c5eeab9e4"
   },
   "outputs": [
    {
     "name": "stdout",
     "output_type": "stream",
     "text": [
      "2 3 6 6 5\n",
      "5\n"
     ]
    }
   ],
   "source": [
    "arr = map(int, input().split())\n",
    "\n",
    "#scores = list(dict.fromkeys(arr)) se ci interessa rimuovere i duplicati mantenendo l'ordine, possiamo usare questa funzione, nel nostro caso non ci interessa\n",
    "scores = set(arr)\n",
    "\n",
    "for i in scores:\n",
    "  larger = 0\n",
    "  for j in scores:\n",
    "    if i<j:\n",
    "      larger+=1\n",
    "  if larger==1:\n",
    "    break\n",
    "    \n",
    "print(i)"
   ]
  },
  {
   "cell_type": "code",
   "execution_count": 7,
   "metadata": {
    "colab": {
     "base_uri": "https://localhost:8080/"
    },
    "id": "X8jISauJdy8D",
    "outputId": "1132085a-b132-43c3-976b-64c1a1ad7b31"
   },
   "outputs": [
    {
     "name": "stdout",
     "output_type": "stream",
     "text": [
      "2 3 6 6 5\n"
     ]
    },
    {
     "data": {
      "text/plain": [
       "5"
      ]
     },
     "execution_count": 7,
     "metadata": {},
     "output_type": "execute_result"
    }
   ],
   "source": [
    "arr = map(int, input().split())\n",
    "scores = list(dict.fromkeys(arr))\n",
    "scores.sort() #revese=True per ordinare dal più grande al più piccolo, in tal caso il secondo avrà indice 1\n",
    "\n",
    "scores[-2]"
   ]
  },
  {
   "cell_type": "markdown",
   "metadata": {
    "id": "Ux9hbKPKiDq0"
   },
   "source": [
    "## 3. Registro [[Esercizio su HackerRank](https://www.hackerrank.com/challenges/finding-the-percentage/problem)]\n",
    "Hai a disposizione un record di *N* studenti. Ogni record contiene il nome dello studente e il suo voto in Matematica, Fisica e Chimica. I voti possono essere numeri con la virgola. Un utente inserisci un intero *N* seguito da il nome e i voti di N studenti. Il programma deve salvare i record in un dizionario. Allla fine l'utente inserirà il nome di uno studente, il programma dovrà dare il output la media dei voti di tale studente arrotandata a due cifre dopo la virgola.\n",
    "<br><br>\n",
    "**ESEMPIO DI INPUT**\n",
    "<br>\n",
    "3<br>\n",
    "Krishna 67 68 69<br>\n",
    "Arjun 70 98 63<br>\n",
    "Malika 52 56 60<br>\n",
    "Malika<br>\n",
    "<br>\n",
    "**ESEMPIO DI OUTPUT**\n",
    "<br>\n",
    "56.00"
   ]
  },
  {
   "cell_type": "code",
   "execution_count": null,
   "metadata": {
    "colab": {
     "base_uri": "https://localhost:8080/",
     "height": 89
    },
    "id": "woOSWzz-jpGF",
    "outputId": "4d81fd12-f5d2-48f4-a10f-8b75b316bdc1"
   },
   "outputs": [
    {
     "name": "stdout",
     "output_type": "stream",
     "text": [
      "1\n",
      "Malika 52 56 60\n",
      "Malika\n",
      "56.00\n"
     ]
    }
   ],
   "source": [
    "n = int(input())\n",
    "student_marks = {}\n",
    "\n",
    "for _ in range(n):\n",
    "  record = input()\n",
    "  record = record.split()\n",
    "  name = record[0]\n",
    "  marks = list(map(float, record[1:]))\n",
    "  student_marks[name] = marks\n",
    "\n",
    "query_name = input()\n",
    "avg_mark = sum(student_marks[query_name])/len(student_marks[query_name])\n",
    "print(\"%.2f\" % avg_mark)"
   ]
  },
  {
   "cell_type": "markdown",
   "metadata": {
    "id": "tfMPjZUMer-G"
   },
   "source": [
    "## 4. Palindromi\n",
    "Leggi una stringa in input all'interno di un loop. Se la stringa è uguale a \"stop\" interrompi il programma, altrimenti verifica se la stringa è un palindromo, in caso positivo stampa \"PAROLA è un palidromo\" inserendo la parola inserita in input al posto di PAROLA, altrimenti stampa \" PAROLA non è un palindromo\".\n",
    "<br><br>\n",
    "**SUGGERIMENTO**<br>\n",
    "Un palindromo è una parola che può essere letta allo stesso modo in entrambi i sensi (es. radar, osso, aerea)."
   ]
  },
  {
   "cell_type": "code",
   "execution_count": null,
   "metadata": {
    "colab": {
     "base_uri": "https://localhost:8080/",
     "height": 179
    },
    "id": "RuMD1oGIeYDA",
    "outputId": "e6342d82-95ae-4515-e58a-4c48919e6c95"
   },
   "outputs": [
    {
     "name": "stdout",
     "output_type": "stream",
     "text": [
      "ciao\n",
      "ciao non è un palindromo\n",
      "acca\n",
      "acca è un palindromo\n",
      "asta\n",
      "asta non è un palindromo\n",
      "sos\n",
      "sos è un palindromo\n",
      "stop\n"
     ]
    }
   ],
   "source": [
    "word = None\n",
    "\n",
    "while(True):\n",
    "\n",
    "  word = input()\n",
    "\n",
    "  if(word==\"stop\"):\n",
    "    break\n",
    "\n",
    "  word_len = len(word)\n",
    "  is_palindrome = True\n",
    "\n",
    "  for i in range(word_len):\n",
    "    j = word_len-i-1\n",
    "    if(word[i]!=word[j]):\n",
    "      is_palindrome = False\n",
    "      break\n",
    "\n",
    "  if(is_palindrome):\n",
    "    print(\"%s è un palindromo\" % word)\n",
    "  else:\n",
    "    print(\"%s non è un palindromo\" % word)  "
   ]
  }
 ],
 "metadata": {
  "colab": {
   "include_colab_link": true,
   "name": "loops_exercises.ipynb",
   "provenance": []
  },
  "kernelspec": {
   "display_name": "Python 3 (ipykernel)",
   "language": "python",
   "name": "python3"
  },
  "language_info": {
   "codemirror_mode": {
    "name": "ipython",
    "version": 3
   },
   "file_extension": ".py",
   "mimetype": "text/x-python",
   "name": "python",
   "nbconvert_exporter": "python",
   "pygments_lexer": "ipython3",
   "version": "3.11.5"
  }
 },
 "nbformat": 4,
 "nbformat_minor": 1
}
