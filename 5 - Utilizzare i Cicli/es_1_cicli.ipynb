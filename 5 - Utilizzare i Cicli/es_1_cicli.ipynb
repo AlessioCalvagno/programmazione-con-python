{
 "cells": [
  {
   "cell_type": "markdown",
   "id": "147eb024",
   "metadata": {},
   "source": [
    "# Esericizio 1\n",
    "## 1. Potenze [[Esercizio su HackerRank](https://www.hackerrank.com/challenges/python-loops/problem)]\n",
    "\n",
    "Leggi un intero *N* compreso tra 1 e 20 in input. Per tutti gli interi non negativi *i* < N stampa $i^2$."
   ]
  },
  {
   "cell_type": "code",
   "execution_count": 3,
   "id": "28df4620",
   "metadata": {},
   "outputs": [
    {
     "name": "stdout",
     "output_type": "stream",
     "text": [
      "Inserisci num. compreso tra 1 e 20: 15\n",
      "0^2 = 0\n",
      "1^2 = 1\n",
      "2^2 = 4\n",
      "3^2 = 9\n",
      "4^2 = 16\n",
      "5^2 = 25\n",
      "6^2 = 36\n",
      "7^2 = 49\n",
      "8^2 = 64\n",
      "9^2 = 81\n",
      "10^2 = 100\n",
      "11^2 = 121\n",
      "12^2 = 144\n",
      "13^2 = 169\n",
      "14^2 = 196\n"
     ]
    }
   ],
   "source": [
    "n = int(input(\"Inserisci num. compreso tra 1 e 20: \"))\n",
    "#Dovrei verificare che sia in effetti compreso tra 1 e 20, ma mi secca.\n",
    "for i in range(n):\n",
    "    print(f\"{i}^2 = {i**2}\")"
   ]
  },
  {
   "cell_type": "code",
   "execution_count": null,
   "id": "b5fbab22",
   "metadata": {},
   "outputs": [],
   "source": []
  }
 ],
 "metadata": {
  "kernelspec": {
   "display_name": "Python 3 (ipykernel)",
   "language": "python",
   "name": "python3"
  },
  "language_info": {
   "codemirror_mode": {
    "name": "ipython",
    "version": 3
   },
   "file_extension": ".py",
   "mimetype": "text/x-python",
   "name": "python",
   "nbconvert_exporter": "python",
   "pygments_lexer": "ipython3",
   "version": "3.11.5"
  }
 },
 "nbformat": 4,
 "nbformat_minor": 5
}
