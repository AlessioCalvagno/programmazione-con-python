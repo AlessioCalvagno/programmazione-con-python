{
 "cells": [
  {
   "cell_type": "markdown",
   "id": "1d7a301d",
   "metadata": {},
   "source": [
    "### Esercizi con PIP"
   ]
  },
  {
   "cell_type": "markdown",
   "id": "50009573",
   "metadata": {},
   "source": [
    "## Editor di immagini\n",
    "Per questo esercizio dovrai creare un semplice editor di immagini, andando a scegliere i moduli da utilizzare dal Python Package Index e studiando la loro documentazione. Per la ricerca non ti basare solo su PyPi, Google, StackOverflow e Github sono anche tuoi amici. \n",
    "\n",
    "Il programma dovrà chiedere all'utente il percorso ad un'immagine jpg o png, prima di andare avanti il programma deve assicurarsi che l'immagine effettivamente esista (suggerimento, dai uno sguardo al modulo path di os) e che abbia una delle due estensioni accettate, altrimenti deve mostrare un avviso ed uscire.\n",
    "\n",
    "In seguito, dovrà stampare su schermo:\n",
    "\n",
    "1. Nome dell'immagine (solo il nome senza il percorso).\n",
    "2. Estensione dell'immagine (jpg o png).\n",
    "3. Risoluzione dell'immagine (larghezza x altezza).\n",
    "\n",
    "Fatto ciò, il programma deve chiedere all'utente se vuole cambiare la risoluzione dell'immagine, l'utente dovrà inserire una risoluzione in formato LARGHEZZAxALTEZZA oppure lasciare vuoto, se lascia vuoto la risoluzione non verrà modificata.\n",
    "\n",
    "Se le proporzioni della nuova risoluzione sono differenti da quelle originali, allora il programma dovrà chiedere all'utente se vuole mantenerle, in caso positivo bisogna modificare larghezza/altezza inserita dall'utente per mantenere le proporzioni originali.\n",
    "\n",
    "In seguito il programma dovrà chiedere all'utente se vuole convertire l'immagine in bianco e nero, in caso positivo, dovrà farlo.\n",
    "\n",
    "Il programma dovrà salvare la nuova immagine nella stessa directory dove si trova l'immagine originale, con il nome NOME_IMMAGINE_ORIGINALE_new.ESTENSIONE.\n",
    "\n",
    "Infine, il programma dovrà mostrare la nuova immagine su schermo.\n",
    "\n",
    "Di seguito un esempio di utilizzo del programma."
   ]
  },
  {
   "cell_type": "code",
   "execution_count": null,
   "id": "cb8c99aa",
   "metadata": {},
   "outputs": [],
   "source": [
    "#Inserisci il percorso all'immagine: pictures/cat.png\n",
    "\n",
    "# File: cat.png\n",
    "# Formato: png\n",
    "# Risoluzione: 512x512\n",
    "# Nuova risoluzione: 50x75\n",
    "# Mantenere le proporzioni? [si/no]: si\n",
    "# Nuova risoluzione 50x50\n",
    "# Convertire in bianco e nero? [si/no]: si\n",
    "# Nuova immagine salvata in pictures//cat_new.png"
   ]
  },
  {
   "cell_type": "markdown",
   "id": "a9020540",
   "metadata": {},
   "source": [
    "##### BONUS\n",
    "Se usi Jupyter Notebook/Google Colab, prova a mostrare l'immagine finale dentro il tuo notebook."
   ]
  },
  {
   "cell_type": "code",
   "execution_count": 9,
   "id": "40042ac6",
   "metadata": {},
   "outputs": [
    {
     "name": "stdout",
     "output_type": "stream",
     "text": [
      "Requirement already satisfied: choose in c:\\users\\gfgul\\anaconda3\\lib\\site-packages (2.0.0)\n",
      "Collecting Pillow==8.4.0\n",
      "  Downloading Pillow-8.4.0-cp38-cp38-win_amd64.whl (3.2 MB)\n",
      "Requirement already satisfied: six>=1.10.0 in c:\\users\\gfgul\\anaconda3\\lib\\site-packages (from choose) (1.15.0)\n",
      "Installing collected packages: Pillow\n",
      "  Attempting uninstall: Pillow\n",
      "    Found existing installation: Pillow 8.2.0\n",
      "    Uninstalling Pillow-8.2.0:\n",
      "      Successfully uninstalled Pillow-8.2.0\n",
      "Note: you may need to restart the kernel to use updated packages.\n"
     ]
    },
    {
     "name": "stderr",
     "output_type": "stream",
     "text": [
      "ERROR: Could not install packages due to an OSError: [WinError 5] Accesso negato: 'C:\\\\Users\\\\gfgul\\\\anaconda3\\\\Lib\\\\site-packages\\\\~il\\\\_imaging.cp38-win_amd64.pyd'\n",
      "Consider using the `--user` option or check the permissions.\n",
      "\n"
     ]
    }
   ],
   "source": [
    "pip install choose Pillow==8.4.0"
   ]
  },
  {
   "cell_type": "code",
   "execution_count": 39,
   "id": "c9a00d53",
   "metadata": {},
   "outputs": [
    {
     "name": "stdout",
     "output_type": "stream",
     "text": [
      "Inserisci il percorso all'immagine: pictures/cat.png\n",
      "\n",
      "\n",
      "File: cat.png\n",
      "Formato: png\n",
      "Risoluzione: 512x512\n",
      "\n",
      "\n",
      "Nuova risoluzione: 67x93\n",
      "Mantenere le proporzioni? [si/no]: si\n",
      "Nuova risoluzione 93x93\n",
      "Convertire in bianco e nero? [si/no]: no\n",
      "\n",
      "Nuova immagine salvata in pictures//cat_new.png\n"
     ]
    }
   ],
   "source": [
    "from PIL import Image \n",
    "from os.path import isfile\n",
    "\n",
    "\n",
    "def is_valid_img(img_path, accepted_ext=[\".jpg\",\".png\"]):\n",
    "\n",
    "    for ext in accepted_ext:\n",
    "        if ext in img_name:\n",
    "            return True\n",
    "    \n",
    "    return False\n",
    "    \n",
    "\n",
    "def keep_aspect_ratio(size, original_ratio):\n",
    "    ratio = size[0]/size[1]\n",
    "    if original_ratio > ratio:\n",
    "        size[0]=int(size[1]/original_ratio)\n",
    "    else:\n",
    "        size[1] = int(size[0]*original_ratio)\n",
    "    \n",
    "    return size\n",
    "    \n",
    "img_path = input(\"Inserisci il percorso all'immagine: \")\n",
    "\n",
    "if not isfile(img_path):\n",
    "    print(f\"{img_path} non esiste!\")\n",
    "    exit(0)\n",
    "elif not is_valid_img(img_path):\n",
    "    print(f\"{img_path} non è un'immagine valida!\")\n",
    "    exit(0)\n",
    "          \n",
    "img_name = img_path.split(\"/\")[-1]\n",
    "img_folder = img_path.replace(img_name,\"\")\n",
    "img_ext = img_path.split(\".\")[-1]\n",
    "\n",
    "img = Image.open(img_path)\n",
    "\n",
    "print(\"\\n\")\n",
    "print(f\"File: {img_name}\")\n",
    "print(f\"Formato: {img_ext}\")\n",
    "print(f\"Risoluzione: {img.width}x{img.height}\")\n",
    "print(\"\\n\")\n",
    "\n",
    "new_size = input(\"Nuova risoluzione: \")\n",
    "\n",
    "if new_size!=\"\":\n",
    "    new_width, new_height = list(map(int, new_size.split(\"x\")))\n",
    "    original_ratio = img.width/img.height\n",
    "    \n",
    "    if original_ratio!=new_width/new_height:\n",
    "        keep_ratio = input(\"Mantenere le proporzioni? [si/no default=no]: \")\n",
    "        if keep_ratio == \"si\":\n",
    "            new_width, new_height = keep_aspect_ratio([new_width, new_height], original_ratio)\n",
    "            print(f\"Nuova risoluzione {new_width}x{new_height}\")\n",
    "            \n",
    "    img = img.resize((new_width, new_height), Image.ANTIALIAS)\n",
    "    \n",
    "bw_mode = input(\"Convertire in bianco e nero? [si/no default=no]: \")\n",
    "\n",
    "if bw_mode==\"si\":    \n",
    "    img = img.convert('1')\n",
    "\n",
    "new_img_path = img_folder+\"/\"+img_name.split(\".\")[0]+\"_new.\"+img_ext\n",
    "img.save(new_img_name)\n",
    "print(f\"\\nNuova immagine salvata in {new_img_path}\")\n",
    "\n",
    "img.show()"
   ]
  }
 ],
 "metadata": {
  "kernelspec": {
   "display_name": "Python 3.7.4 64-bit ('base': conda)",
   "language": "python",
   "name": "python37464bitbaseconda78b00ce9b4da4d77b0796cc32fd5efe8"
  },
  "language_info": {
   "codemirror_mode": {
    "name": "ipython",
    "version": 3
   },
   "file_extension": ".py",
   "mimetype": "text/x-python",
   "name": "python",
   "nbconvert_exporter": "python",
   "pygments_lexer": "ipython3",
   "version": "3.8.8"
  }
 },
 "nbformat": 4,
 "nbformat_minor": 5
}
