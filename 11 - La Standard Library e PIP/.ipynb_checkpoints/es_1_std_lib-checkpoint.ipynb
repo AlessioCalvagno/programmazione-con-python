{
 "cells": [
  {
   "cell_type": "markdown",
   "id": "f9c18774",
   "metadata": {},
   "source": [
    "## Esercizio 1. Poesie su un file\n",
    "Leggi tutte le poesie dalla directory *poesie* e savale all'interno di un unico file chiamato *raccolta_poesie.txt che si dovrà trovare all'interno di una nuova directory chiamata *raccolta*. Prima di una poesia inserisci un contatore (es. POESIA 1). Guarda il file raccolta_poesie_esempio.txt per avere un'idea dell'output che devi ottenere."
   ]
  },
  {
   "cell_type": "code",
   "execution_count": 10,
   "id": "393c2e0b",
   "metadata": {},
   "outputs": [
    {
     "name": "stdout",
     "output_type": "stream",
     "text": [
      "['bacio.txt', 'felicità.txt', 'il_più_bello_dei_mari.txt', 'sei_la_mia_schiavitu_sei_la_mia_liberta.txt', 'se_durassimo_in_eterno.txt']\n"
     ]
    }
   ],
   "source": [
    "import os\n",
    "base_path = \"poesie\"\n",
    "final_path = base_path + \"/raccolta\"\n",
    "output_filename = \"raccolta_poesie_official.txt\"\n",
    "\n",
    "files_list = os.listdir(base_path)\n",
    "files_txt = list(filter(lambda s:\".txt\" in s, files_list))\n",
    "print(files_txt)\n",
    "\n",
    "output_file = open(final_path + \"/\" + output_filename, \"w\")\n",
    "\n",
    "for i,item in enumerate(files_txt):\n",
    "    f = open(base_path + \"/\" + item)\n",
    "    output_file.write(f\"POESIA {i}\\n\")\n",
    "    output_file.write(f.read())\n",
    "    output_file.write(\"\\n\\n\")\n",
    "    f.close()\n",
    "output_file.close() \n",
    "    "
   ]
  },
  {
   "cell_type": "code",
   "execution_count": 4,
   "id": "be26d13c",
   "metadata": {},
   "outputs": [
    {
     "name": "stdout",
     "output_type": "stream",
     "text": [
      "Bacio di Alda Merini\n",
      "\n",
      "Bacio che sopporti il peso\n",
      "della mia anima breve\n",
      "in te il mondo del mio discorso\n",
      "diventa suono e paura.\n"
     ]
    }
   ],
   "source": [
    "f = open(\"poesie/bacio.txt\")\n",
    "print(f.read())"
   ]
  }
 ],
 "metadata": {
  "kernelspec": {
   "display_name": "Python 3 (ipykernel)",
   "language": "python",
   "name": "python3"
  },
  "language_info": {
   "codemirror_mode": {
    "name": "ipython",
    "version": 3
   },
   "file_extension": ".py",
   "mimetype": "text/x-python",
   "name": "python",
   "nbconvert_exporter": "python",
   "pygments_lexer": "ipython3",
   "version": "3.11.5"
  }
 },
 "nbformat": 4,
 "nbformat_minor": 5
}
