{
 "cells": [
  {
   "cell_type": "markdown",
   "id": "edefec52",
   "metadata": {},
   "source": [
    "## Esercizio 3. Equazioni per il Machine Learning\n",
    "Le funzioni di attivazione sono una parte fondamentale delle reti neurali artificiali, implementiamo le seguenti funzioni di attivazione usando ovunque è possibile il modulo math di Python.\n",
    "##### Sigmoide\n",
    "$ \\sigma(z) = \\frac{1}{1+e^{-z}} $\n",
    "##### Rectified Linear Unit (ReLU)\n",
    "$ g(z) = \\begin{Bmatrix}\n",
    "0 \\ \\ \\ se \\ \\ z < 0\n",
    "\\\\\n",
    "z \\ \\ \\ se \\ \\ z \\geq 0\n",
    "\\end{Bmatrix}\n",
    "$\n",
    "##### Tangente iperbolica\n",
    "$ \\tanh(z) = \\frac{1-e^{-2z}}{1+e^{-2z}} $\n",
    "<br><br>\n",
    "Per valutare la qualità di un qualsiasi modello di machine learning è necessario usare una funzione di costo, implementiamo la log loss utilizzando dove è possibile il modulo math di Python\n",
    "##### Log Loss\n",
    "$ \\text{J}(y, \\hat{y}) ) = -\\frac{1}{N}\\sum_{i=1}^N(y_i\\cdot log(a_i) + (1-y_i)\\cdot log(1-a_i)) $\n"
   ]
  },
  {
   "cell_type": "code",
   "execution_count": 22,
   "id": "8229f90e",
   "metadata": {},
   "outputs": [],
   "source": [
    "from math import *\n",
    "\n",
    "def sigma(z):\n",
    "    \"\"\"\n",
    "    Sigmoid function: s(z) = 1/(1+exp(-z))\n",
    "    \"\"\"\n",
    "    return 1/(1+exp(-z))\n",
    "\n",
    "def ReLU(z):\n",
    "    \"\"\"\n",
    "    ReLU function: ReLU(z) = z if z >=0, or 0 otherwise\n",
    "    \"\"\"\n",
    "    return z if z>=0 else 0\n",
    "\n",
    "def tanh(z):\n",
    "    \"\"\"\n",
    "    hyperbolic tangent function: tanh(z) = (1-exp(-2z))/(1+exp(-2z))\n",
    "    \"\"\"\n",
    "    return (1-exp(-2*z))/(1+exp(-2*z))\n",
    "\n",
    "def log_loss(y,a):\n",
    "    \"\"\"\n",
    "    Nella consegna non è definita chiaramente .____.\n",
    "    La prendo dalla soluzione.\n",
    "    EDIT: y e a sono due vettori di uguale dimensione.\n",
    "    \"\"\"\n",
    "    assert(len(y)==len(a)), \"I due input devono avere stessa lunghezza\"\n",
    "    \n",
    "    res = 0\n",
    "    for y_i, a_i in zip(y,a): #con zip riesco ad avere doppio contatore in unico for\n",
    "        res += y_i*log(a_i) + (1-y_i)*log(1-a_i)\n",
    "    \n",
    "    res /= -len(y)\n",
    "    return res\n",
    "    \n",
    "    \n",
    "    "
   ]
  },
  {
   "cell_type": "code",
   "execution_count": 15,
   "id": "f70c1378",
   "metadata": {},
   "outputs": [
    {
     "name": "stdout",
     "output_type": "stream",
     "text": [
      "Help on function tanh in module __main__:\n",
      "\n",
      "tanh(z)\n",
      "    hyperbolic tangent function: tanh(z) = (1-exp(-2z))/(1+exp(-2z))\n",
      "\n"
     ]
    }
   ],
   "source": [
    "help(tanh)"
   ]
  },
  {
   "cell_type": "code",
   "execution_count": 7,
   "id": "73a5ef6b",
   "metadata": {},
   "outputs": [
    {
     "name": "stdout",
     "output_type": "stream",
     "text": [
      "Help on function sigma in module __main__:\n",
      "\n",
      "sigma(z)\n",
      "    Sigmoid function: s(z) = 1/(1+exp(-z))\n",
      "\n"
     ]
    }
   ],
   "source": [
    "help(sigma)"
   ]
  },
  {
   "cell_type": "code",
   "execution_count": 25,
   "id": "acda0832",
   "metadata": {},
   "outputs": [
    {
     "name": "stdout",
     "output_type": "stream",
     "text": [
      "sigma(2) = 0.8807970779778823\n",
      "ReLU(2) = 2\n",
      "ReLU(-2) = 0\n",
      "tanh(2) = 0.9640275800758168\n",
      "log_loss([1,2,3],[0.5,0.3,0.75]) = 0.27829178012954897\n"
     ]
    }
   ],
   "source": [
    "print(f\"sigma(2) = {sigma(2)}\")\n",
    "print(f\"ReLU(2) = {ReLU(2)}\")\n",
    "print(f\"ReLU(-2) = {ReLU(-2)}\")\n",
    "print(f\"tanh(2) = {tanh(2)}\")\n",
    "y = [1,2,3]\n",
    "a = [0.5,0.3,0.75]\n",
    "print(f\"log_loss([1,2,3],[0.5,0.3,0.75]) = {log_loss(y,a)}\")\n"
   ]
  }
 ],
 "metadata": {
  "kernelspec": {
   "display_name": "Python 3 (ipykernel)",
   "language": "python",
   "name": "python3"
  },
  "language_info": {
   "codemirror_mode": {
    "name": "ipython",
    "version": 3
   },
   "file_extension": ".py",
   "mimetype": "text/x-python",
   "name": "python",
   "nbconvert_exporter": "python",
   "pygments_lexer": "ipython3",
   "version": "3.11.5"
  }
 },
 "nbformat": 4,
 "nbformat_minor": 5
}
