{
 "cells": [
  {
   "cell_type": "markdown",
   "id": "306c4d0e",
   "metadata": {},
   "source": [
    "## Esercizio 2. Quanto manca al tuo compleanno ?\n",
    "Inserisci in input la data del tuo compleanno in formato giorno/mese (es 11/06 per l'11 di Giugno). Scrivi un programma in grado di calcolare i giorni mancanti al tuo compleanno e stampa il risultato in output.\n",
    "##### SUGGERIMENTI\n",
    "* Puoi utilizzare gli operatori di confronto per confrontare due date"
   ]
  },
  {
   "cell_type": "code",
   "execution_count": 13,
   "id": "54af7c8c",
   "metadata": {},
   "outputs": [
    {
     "name": "stdout",
     "output_type": "stream",
     "text": [
      "Al compleanno mancano 197 giorni\n"
     ]
    }
   ],
   "source": [
    "from datetime import datetime\n",
    "now = datetime.now()\n",
    "\n",
    "date_str = \"23/06\"\n",
    "date = datetime.strptime(date_str, \"%d/%m\")\n",
    "date = date.replace(year=now.year)\n",
    "\n",
    "if (date < now): #compleanno passato\n",
    "    date_next_yr = date.replace(year=date.year+1)\n",
    "    diff = date_next_yr - now\n",
    "else:\n",
    "    diff = date - now\n",
    "print(f\"Al compleanno mancano {diff.days} giorni\")"
   ]
  },
  {
   "cell_type": "code",
   "execution_count": null,
   "id": "f052f682",
   "metadata": {},
   "outputs": [],
   "source": []
  }
 ],
 "metadata": {
  "kernelspec": {
   "display_name": "Python 3 (ipykernel)",
   "language": "python",
   "name": "python3"
  },
  "language_info": {
   "codemirror_mode": {
    "name": "ipython",
    "version": 3
   },
   "file_extension": ".py",
   "mimetype": "text/x-python",
   "name": "python",
   "nbconvert_exporter": "python",
   "pygments_lexer": "ipython3",
   "version": "3.11.5"
  }
 },
 "nbformat": 4,
 "nbformat_minor": 5
}
