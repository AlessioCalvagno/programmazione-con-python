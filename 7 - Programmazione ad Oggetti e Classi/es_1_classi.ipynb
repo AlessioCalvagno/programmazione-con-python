{
 "cells": [
  {
   "cell_type": "markdown",
   "id": "9f383632",
   "metadata": {},
   "source": [
    "## 1. La Circonferenza\n",
    "Definisci una classe per rappresentare una circonferenza che, prendendo in input il raggio, definisca dei metodi per il calcolo di diametro, circonferenza e area. Documenta i metodi utilizzando le Docstring."
   ]
  },
  {
   "cell_type": "code",
   "execution_count": 1,
   "id": "f8b7615d",
   "metadata": {},
   "outputs": [],
   "source": [
    "class Circle:\n",
    "    \"\"\"\n",
    "    Classe che rappresenta una circonferenza\n",
    "    \"\"\"\n",
    "    \n",
    "    def __init__(self,r):\n",
    "        \"\"\"\n",
    "        Circle(r). r (float) è il raggio della circonferenza \n",
    "        \"\"\"\n",
    "        self._r = r #raggio\n",
    "    \n",
    "    def __repr__(self):\n",
    "        return f\"Circonferenza di raggio {self.get_r()}, perimetro {self.perimeter()}, area {self.area()}\"\n",
    "    \n",
    "    def get_r(self):\n",
    "        \"\"\"\n",
    "        Getter di r\n",
    "        \"\"\"\n",
    "        return self._r\n",
    "    \n",
    "    def perimeter(self):\n",
    "        \"\"\"\n",
    "        Calcola il perimetro\n",
    "        \"\"\"\n",
    "        return self.get_r()*3.14*2\n",
    "    \n",
    "    def area(self):\n",
    "        \"\"\"\n",
    "        Calcola l'area\n",
    "        \"\"\"\n",
    "        return self.get_r()**2*3.14\n"
   ]
  },
  {
   "cell_type": "code",
   "execution_count": 2,
   "id": "da71297f",
   "metadata": {},
   "outputs": [
    {
     "name": "stdout",
     "output_type": "stream",
     "text": [
      "Help on class Circle in module __main__:\n",
      "\n",
      "class Circle(builtins.object)\n",
      " |  Circle(r)\n",
      " |  \n",
      " |  Classe che rappresenta una circonferenza\n",
      " |  \n",
      " |  Methods defined here:\n",
      " |  \n",
      " |  __init__(self, r)\n",
      " |      Circle(r). r (float) è il raggio della circonferenza\n",
      " |  \n",
      " |  __repr__(self)\n",
      " |      Return repr(self).\n",
      " |  \n",
      " |  area(self)\n",
      " |      Calcola l'area\n",
      " |  \n",
      " |  get_r(self)\n",
      " |      Getter di r\n",
      " |  \n",
      " |  perimeter(self)\n",
      " |      Calcola il perimetro\n",
      " |  \n",
      " |  ----------------------------------------------------------------------\n",
      " |  Data descriptors defined here:\n",
      " |  \n",
      " |  __dict__\n",
      " |      dictionary for instance variables (if defined)\n",
      " |  \n",
      " |  __weakref__\n",
      " |      list of weak references to the object (if defined)\n",
      "\n"
     ]
    }
   ],
   "source": [
    "help(Circle)"
   ]
  },
  {
   "cell_type": "code",
   "execution_count": 4,
   "id": "162a1704",
   "metadata": {},
   "outputs": [
    {
     "name": "stdout",
     "output_type": "stream",
     "text": [
      "Circonferenza di raggio 4.5, perimetro 28.26, area 63.585\n"
     ]
    }
   ],
   "source": [
    "circle = Circle(4.5)\n",
    "print(circle)\n"
   ]
  }
 ],
 "metadata": {
  "kernelspec": {
   "display_name": "Python 3 (ipykernel)",
   "language": "python",
   "name": "python3"
  },
  "language_info": {
   "codemirror_mode": {
    "name": "ipython",
    "version": 3
   },
   "file_extension": ".py",
   "mimetype": "text/x-python",
   "name": "python",
   "nbconvert_exporter": "python",
   "pygments_lexer": "ipython3",
   "version": "3.11.5"
  }
 },
 "nbformat": 4,
 "nbformat_minor": 5
}
