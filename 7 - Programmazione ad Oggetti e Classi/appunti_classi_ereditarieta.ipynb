{
 "cells": [
  {
   "cell_type": "markdown",
   "id": "bb419f1d",
   "metadata": {},
   "source": [
    "Video di riferimento del corso python: Eredità e polimorfismo della sezione 18."
   ]
  },
  {
   "cell_type": "markdown",
   "id": "0764f733",
   "metadata": {},
   "source": [
    "Si crea una classe Shape, dove vengono solamente dichiarati i metodi perimeter() e area() che saranno poi implementati dalle classi figlie (una sorta di classe astratta di Java)"
   ]
  },
  {
   "cell_type": "code",
   "execution_count": 11,
   "id": "fc1da72f",
   "metadata": {},
   "outputs": [],
   "source": [
    "class Shape: \n",
    "    \"\"\"\n",
    "    Classe che rappresenta una figura 2D\n",
    "    \"\"\"\n",
    "    #questa è la doc string generale della classe\n",
    "    \n",
    "    #costruttore (metodo speciale __init(self,parametri)__)\n",
    "    def __init__(self, l):\n",
    "        \"\"\"\n",
    "        l(tupla): variabile che contiene i lati e l'altezza della figura\n",
    "        \"\"\"\n",
    "        self._l = l\n",
    "        #facendo self._l sto creando un nuovo campo della classe. Inoltre, \n",
    "        #indicandolo con il _ iniziale, sto dicendo che è ad accesso privato.\n",
    "    \n",
    "    #dichiarazione dei metodi della classe (non li implemento)\n",
    "    \n",
    "    def area(self):\n",
    "        \"\"\"\n",
    "        Calcola l'area della figura\n",
    "        \"\"\"\n",
    "        #non posso lasciare il metodo vuoto senza corpo; metto pass che è\n",
    "        #solo un placeholder per non fare niente. Il metodo va implementato\n",
    "        #nelle classi figlie\n",
    "        pass\n",
    "    \n",
    "    def perimeter(self):\n",
    "        \"\"\"\n",
    "        Calcola il perimetro della figura\n",
    "        \"\"\"\n",
    "        pass\n",
    "    \n",
    "    #sovrascrivo il metodo per ottenere la stringa (utile per print)\n",
    "    def __repr__(self):\n",
    "        return f\"Area: {self.area()}, perimetro: {self.perimeter()}\"\n",
    "    \n",
    "    \n",
    "    "
   ]
  },
  {
   "cell_type": "markdown",
   "id": "89db61cc",
   "metadata": {},
   "source": [
    "Ora creo una o più classi figlie di Shape. Queste implementano perimeter e area."
   ]
  },
  {
   "cell_type": "code",
   "execution_count": 12,
   "id": "517e6c6b",
   "metadata": {},
   "outputs": [],
   "source": [
    "class Square(Shape): #indico l'ereditarietà tramite le ()\n",
    "    \n",
    "    def area(self): #sovrascrivo il metodo di Shape\n",
    "        #se non metto docstring, viene presa quella della classe padre\n",
    "        \"\"\"\n",
    "        Calcola l'area del quadrato\n",
    "        \"\"\"\n",
    "        return self._l[0]**2\n",
    "    \n",
    "    def perimeter(self):\n",
    "        \"\"\"\n",
    "        Calcola il perimetro del quadrato\n",
    "        \"\"\"\n",
    "        return self._l[0]*4\n",
    "    #se non aggiungo altro, eredito così come sono costruttore, __repr()__ e\n",
    "    #la docstring della classe generale"
   ]
  },
  {
   "cell_type": "code",
   "execution_count": 14,
   "id": "10a99204",
   "metadata": {},
   "outputs": [
    {
     "name": "stdout",
     "output_type": "stream",
     "text": [
      "Help on class Shape in module __main__:\n",
      "\n",
      "class Shape(builtins.object)\n",
      " |  Shape(l)\n",
      " |  \n",
      " |  Classe che rappresenta una figura 2D\n",
      " |  \n",
      " |  Methods defined here:\n",
      " |  \n",
      " |  __init__(self, l)\n",
      " |      l(tupla): variabile che contiene i lati e l'altezza della figura\n",
      " |  \n",
      " |  __repr__(self)\n",
      " |      Return repr(self).\n",
      " |  \n",
      " |  area(self)\n",
      " |      Calcola l'area della figura\n",
      " |  \n",
      " |  perimeter(self)\n",
      " |      Calcola il perimetro della figura\n",
      " |  \n",
      " |  ----------------------------------------------------------------------\n",
      " |  Data descriptors defined here:\n",
      " |  \n",
      " |  __dict__\n",
      " |      dictionary for instance variables (if defined)\n",
      " |  \n",
      " |  __weakref__\n",
      " |      list of weak references to the object (if defined)\n",
      "\n"
     ]
    }
   ],
   "source": [
    "help(Shape)"
   ]
  },
  {
   "cell_type": "code",
   "execution_count": 13,
   "id": "8bb38e64",
   "metadata": {},
   "outputs": [
    {
     "name": "stdout",
     "output_type": "stream",
     "text": [
      "Help on class Square in module __main__:\n",
      "\n",
      "class Square(Shape)\n",
      " |  Square(l)\n",
      " |  \n",
      " |  Method resolution order:\n",
      " |      Square\n",
      " |      Shape\n",
      " |      builtins.object\n",
      " |  \n",
      " |  Methods defined here:\n",
      " |  \n",
      " |  area(self)\n",
      " |      Calcola l'area del quadrato\n",
      " |  \n",
      " |  perimeter(self)\n",
      " |      Calcola il perimetro del quadrato\n",
      " |  \n",
      " |  ----------------------------------------------------------------------\n",
      " |  Methods inherited from Shape:\n",
      " |  \n",
      " |  __init__(self, l)\n",
      " |      l(tupla): variabile che contiene i lati e l'altezza della figura\n",
      " |  \n",
      " |  __repr__(self)\n",
      " |      Return repr(self).\n",
      " |  \n",
      " |  ----------------------------------------------------------------------\n",
      " |  Data descriptors inherited from Shape:\n",
      " |  \n",
      " |  __dict__\n",
      " |      dictionary for instance variables (if defined)\n",
      " |  \n",
      " |  __weakref__\n",
      " |      list of weak references to the object (if defined)\n",
      "\n"
     ]
    }
   ],
   "source": [
    "help(Square)\n",
    "#Method resolution order indica che se uso un metodo con stesso nome, comune \n",
    "#alle classi indicate nella lista (che sono le varie superclass), viene data\n",
    "#precedenza alla classe più specifica (la prima della lista). \n",
    "#Quindi ad es. se uso area(), uso quello\n",
    "#di Square "
   ]
  },
  {
   "cell_type": "markdown",
   "id": "6b19d75c",
   "metadata": {},
   "source": [
    "qui provo ad usare la classe square"
   ]
  },
  {
   "cell_type": "code",
   "execution_count": 15,
   "id": "0be9be42",
   "metadata": {},
   "outputs": [
    {
     "name": "stdout",
     "output_type": "stream",
     "text": [
      "Area: 16, perimetro: 16\n"
     ]
    }
   ],
   "source": [
    "square = Square((4,)) #per indicare tupla con singolo argomento metti virgola\n",
    "\n",
    "print(square)"
   ]
  }
 ],
 "metadata": {
  "kernelspec": {
   "display_name": "Python 3 (ipykernel)",
   "language": "python",
   "name": "python3"
  },
  "language_info": {
   "codemirror_mode": {
    "name": "ipython",
    "version": 3
   },
   "file_extension": ".py",
   "mimetype": "text/x-python",
   "name": "python",
   "nbconvert_exporter": "python",
   "pygments_lexer": "ipython3",
   "version": "3.11.5"
  }
 },
 "nbformat": 4,
 "nbformat_minor": 5
}
