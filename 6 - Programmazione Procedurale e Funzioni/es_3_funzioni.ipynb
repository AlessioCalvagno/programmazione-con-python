{
 "cells": [
  {
   "cell_type": "markdown",
   "id": "1bd64fb1",
   "metadata": {},
   "source": [
    "## Esercizio 3. Anagrammi [[Esercizio su HackerRank](https://www.hackerrank.com/challenges/validate-list-of-email-address-with-filter/problem)]\n",
    "Definisci una funzione che, prendendo in input due parole, verifica se le due parole sono anagrammi.\n",
    "<br><br>\n",
    "**SUGGERIMENTO**\n",
    "<br>\n",
    "Due parole sono anagrammi se sono composte esattamente dalle stesse lettere (es. strani/nastri, carino/canori, senatori/estranio)"
   ]
  },
  {
   "cell_type": "code",
   "execution_count": 8,
   "id": "88d737d0",
   "metadata": {},
   "outputs": [],
   "source": [
    "def is_anagramma(word1,word2):\n",
    "    if len(word1) != len(word2):\n",
    "        #Sicuramente gli anagrammi hanno stessa lunghezza\n",
    "        return False\n",
    "    else:\n",
    "        #idea mia: tolgo i duplicati (cast a set) e vedo se \n",
    "        #ci sono le stesse lettere. \n",
    "        #Ma come confronto i set se non sono ordinati?\n",
    "        word1_set = set(word1)\n",
    "        word2_set = set(word2)\n",
    "        print(word1_set)\n",
    "        print(word2_set)\n",
    "        if word1_set == word2_set:\n",
    "            return True\n",
    "        else:\n",
    "            return False\n",
    "    "
   ]
  },
  {
   "cell_type": "code",
   "execution_count": 13,
   "id": "f2174358",
   "metadata": {},
   "outputs": [
    {
     "name": "stdout",
     "output_type": "stream",
     "text": [
      "Inserisci la prima parola: cada\n",
      "Inserisci la seconda parola: cada\n"
     ]
    }
   ],
   "source": [
    "word1 = input(\"Inserisci la prima parola: \")\n",
    "word2 = input(\"Inserisci la seconda parola: \")"
   ]
  },
  {
   "cell_type": "code",
   "execution_count": 14,
   "id": "abf248f0",
   "metadata": {},
   "outputs": [
    {
     "name": "stdout",
     "output_type": "stream",
     "text": [
      "{'c', 'd', 'a'}\n",
      "{'c', 'd', 'a'}\n",
      "True\n"
     ]
    }
   ],
   "source": [
    "print(is_anagramma(word1,word2))"
   ]
  }
 ],
 "metadata": {
  "kernelspec": {
   "display_name": "Python 3 (ipykernel)",
   "language": "python",
   "name": "python3"
  },
  "language_info": {
   "codemirror_mode": {
    "name": "ipython",
    "version": 3
   },
   "file_extension": ".py",
   "mimetype": "text/x-python",
   "name": "python",
   "nbconvert_exporter": "python",
   "pygments_lexer": "ipython3",
   "version": "3.11.5"
  }
 },
 "nbformat": 4,
 "nbformat_minor": 5
}
