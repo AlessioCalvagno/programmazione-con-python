{
 "cells": [
  {
   "cell_type": "markdown",
   "id": "6815bd83",
   "metadata": {},
   "source": [
    "## Esercizio 2. Anni bisestili [[Esercizio su HackerRank](https://www.hackerrank.com/challenges/write-a-function/problem)]\n",
    "Ogni 4 anni aggiungiamo un giorno al mese più breve dell'anno, cioè Febbraio, quest'anno è chiamato bisestile. I criteri utilizzati per definire se un anno è bisestile sono i seguenti:\n",
    "* L'anno è divisibile per 4, allora è bisestile a meno che:\n",
    "* * L'anno è divisibile per 100, allora non è bisestile a meno che:\n",
    "* * * L'anno è divisile per 400.\n",
    "\n",
    "Scrivi una funzione per verificare se un anno è bisestile.**bold text**"
   ]
  },
  {
   "cell_type": "code",
   "execution_count": 3,
   "id": "d5681235",
   "metadata": {},
   "outputs": [],
   "source": [
    "def is_leap_year(year):\n",
    "    leap_year = True\n",
    "\n",
    "    #se è divisibile per 4...\n",
    "    if(year%4==0):\n",
    "        #... ma è anche divisibile per 100 non è bisestile\n",
    "        if(year%100==0 and not year%400==0):\n",
    "            leap_year = False\n",
    "        elif(year%400==0):\n",
    "            leap_year=True\n",
    "    else:\n",
    "        leap_year = False\n",
    "\n",
    "    return leap_year\n",
    "        \n"
   ]
  },
  {
   "cell_type": "code",
   "execution_count": 9,
   "id": "51620059",
   "metadata": {},
   "outputs": [
    {
     "name": "stdout",
     "output_type": "stream",
     "text": [
      "Inserisci un anno: 1300\n",
      "False\n"
     ]
    }
   ],
   "source": [
    "year=int(input(\"Inserisci un anno: \"))\n",
    "print(is_leap_year(year))"
   ]
  }
 ],
 "metadata": {
  "kernelspec": {
   "display_name": "Python 3 (ipykernel)",
   "language": "python",
   "name": "python3"
  },
  "language_info": {
   "codemirror_mode": {
    "name": "ipython",
    "version": 3
   },
   "file_extension": ".py",
   "mimetype": "text/x-python",
   "name": "python",
   "nbconvert_exporter": "python",
   "pygments_lexer": "ipython3",
   "version": "3.11.5"
  }
 },
 "nbformat": 4,
 "nbformat_minor": 5
}
