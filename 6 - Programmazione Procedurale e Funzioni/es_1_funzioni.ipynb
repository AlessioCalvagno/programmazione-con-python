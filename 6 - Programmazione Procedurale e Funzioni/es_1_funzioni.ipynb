{
 "cells": [
  {
   "cell_type": "markdown",
   "id": "2b2712fd",
   "metadata": {},
   "source": [
    "# Esercizio 1\n",
    "## 1. Area della Circonferenza\n",
    "Definisci una funzione che, prendendo in input il raggio, restituisce l'area della circonferenza.\n",
    "<br><br>\n",
    "**SUGGERIMENTI**<br>\n",
    "Puoi calcolare l'area della circonferenza come $ A = \\pi r^2 $ dove $ \\pi $ è il pi greco e può essere approssimato a 3,14."
   ]
  },
  {
   "cell_type": "code",
   "execution_count": 1,
   "id": "6ea3f930",
   "metadata": {},
   "outputs": [],
   "source": [
    "def compute_circle_area(radius):\n",
    "    PI = 3.14\n",
    "    return PI*(radius**2)\n"
   ]
  },
  {
   "cell_type": "code",
   "execution_count": 3,
   "id": "6e8a4371",
   "metadata": {},
   "outputs": [
    {
     "name": "stdout",
     "output_type": "stream",
     "text": [
      "12.56\n"
     ]
    }
   ],
   "source": [
    "print(compute_circle_area(2))"
   ]
  }
 ],
 "metadata": {
  "kernelspec": {
   "display_name": "Python 3 (ipykernel)",
   "language": "python",
   "name": "python3"
  },
  "language_info": {
   "codemirror_mode": {
    "name": "ipython",
    "version": 3
   },
   "file_extension": ".py",
   "mimetype": "text/x-python",
   "name": "python",
   "nbconvert_exporter": "python",
   "pygments_lexer": "ipython3",
   "version": "3.11.5"
  }
 },
 "nbformat": 4,
 "nbformat_minor": 5
}
